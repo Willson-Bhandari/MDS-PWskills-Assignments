{
 "cells": [
  {
   "cell_type": "markdown",
   "id": "cf887866",
   "metadata": {},
   "source": [
    "### Q1. Which keyword is used to create a function? Create a function to return a list of odd numbers in the range of 1 to 25.\n",
    "### Answer: \n",
    "\"def\" keyword is used to create a function.Example <br>\n",
    "def my_fun():"
   ]
  },
  {
   "cell_type": "code",
   "execution_count": 73,
   "id": "ef87ddb1",
   "metadata": {},
   "outputs": [],
   "source": [
    "# The required code is \n",
    "def odd1(a,b):\n",
    "    lis = []\n",
    "    for i in range(a,b):\n",
    "        if i % 2 !=0:\n",
    "            lis.append(i)\n",
    "    return lis\n",
    "    "
   ]
  },
  {
   "cell_type": "code",
   "execution_count": 74,
   "id": "09f608b0",
   "metadata": {},
   "outputs": [
    {
     "name": "stdout",
     "output_type": "stream",
     "text": [
      "[1, 3, 5, 7, 9, 11, 13, 15, 17, 19, 21, 23]\n"
     ]
    }
   ],
   "source": [
    "# calling function odd1\n",
    "print(odd1(1,25))"
   ]
  },
  {
   "cell_type": "markdown",
   "id": "4a93f7fc",
   "metadata": {},
   "source": [
    "### Q2. Why *args and **kwargs is used in some functions? Create a function each for *args and **kwargs to demonstrate their use.\n",
    "### Answer:\n",
    "The use of \"*args\" in some function is to provide multiple parameter in the function when calling the function with one or more arguments. example is show in following block of cell."
   ]
  },
  {
   "cell_type": "markdown",
   "id": "71e7de34",
   "metadata": {},
   "source": [
    "#### Checking due to unequal number of parameter in function and argunments while calling"
   ]
  },
  {
   "cell_type": "code",
   "execution_count": 75,
   "id": "b8b1d7b1",
   "metadata": {},
   "outputs": [
    {
     "ename": "TypeError",
     "evalue": "add1() missing 1 required positional argument: 'c'",
     "output_type": "error",
     "traceback": [
      "\u001b[1;31m---------------------------------------------------------------------------\u001b[0m",
      "\u001b[1;31mTypeError\u001b[0m                                 Traceback (most recent call last)",
      "Cell \u001b[1;32mIn[75], line 3\u001b[0m\n\u001b[0;32m      1\u001b[0m \u001b[38;5;28;01mdef\u001b[39;00m \u001b[38;5;21madd1\u001b[39m(a,b,c):\n\u001b[0;32m      2\u001b[0m     \u001b[38;5;28;01mpass\u001b[39;00m\n\u001b[1;32m----> 3\u001b[0m \u001b[43madd1\u001b[49m\u001b[43m(\u001b[49m\u001b[38;5;241;43m2\u001b[39;49m\u001b[43m,\u001b[49m\u001b[38;5;241;43m3\u001b[39;49m\u001b[43m)\u001b[49m\n",
      "\u001b[1;31mTypeError\u001b[0m: add1() missing 1 required positional argument: 'c'"
     ]
    }
   ],
   "source": [
    "# The following code is for checking purpose\n",
    "def add1(a,b,c):\n",
    "    pass\n",
    "add1(2,3) # When calling to function it shows error due to unmatched number of argunment to parameter of function "
   ]
  },
  {
   "cell_type": "markdown",
   "id": "09c50124",
   "metadata": {},
   "source": [
    "###### When calling to function it shows error due to unmatched number of argunment to parameter of function "
   ]
  },
  {
   "cell_type": "markdown",
   "id": "5b2c8685",
   "metadata": {},
   "source": [
    "### To erase this error we can use \"*\" before any parameter in the function declaration "
   ]
  },
  {
   "cell_type": "code",
   "execution_count": 76,
   "id": "0819d4b1",
   "metadata": {},
   "outputs": [],
   "source": [
    "def add2(*arg):\n",
    "    pass\n",
    "add2(2,3,4,4)"
   ]
  },
  {
   "cell_type": "markdown",
   "id": "e7067c43",
   "metadata": {},
   "source": [
    "###### Here it works (doesn't show error like above:"
   ]
  },
  {
   "cell_type": "markdown",
   "id": "0cc6fe6a",
   "metadata": {},
   "source": [
    "### The use of **kwargs is to useful to create function that can accept an arbitrary number of keyword argunments in the function."
   ]
  },
  {
   "cell_type": "code",
   "execution_count": 78,
   "id": "6f712d6f",
   "metadata": {},
   "outputs": [],
   "source": [
    "# example;\n",
    "def mykey(name,age,address):\n",
    "    pass\n",
    "mykey(name=\"Willson\", age = 23, address = \"Thamel\")"
   ]
  },
  {
   "cell_type": "markdown",
   "id": "ab1db45b",
   "metadata": {},
   "source": [
    "#### But instead of providing 3 key and its argunments to function if we give two or more it will give us an error . Here is the error."
   ]
  },
  {
   "cell_type": "code",
   "execution_count": 79,
   "id": "3be5ae5c",
   "metadata": {},
   "outputs": [
    {
     "ename": "TypeError",
     "evalue": "mykey() missing 1 required positional argument: 'address'",
     "output_type": "error",
     "traceback": [
      "\u001b[1;31m---------------------------------------------------------------------------\u001b[0m",
      "\u001b[1;31mTypeError\u001b[0m                                 Traceback (most recent call last)",
      "Cell \u001b[1;32mIn[79], line 4\u001b[0m\n\u001b[0;32m      2\u001b[0m \u001b[38;5;28;01mdef\u001b[39;00m \u001b[38;5;21mmykey\u001b[39m(name,age,address):\n\u001b[0;32m      3\u001b[0m     \u001b[38;5;28;01mpass\u001b[39;00m\n\u001b[1;32m----> 4\u001b[0m \u001b[43mmykey\u001b[49m\u001b[43m(\u001b[49m\u001b[43mname\u001b[49m\u001b[38;5;241;43m=\u001b[39;49m\u001b[38;5;124;43m\"\u001b[39;49m\u001b[38;5;124;43mWillson\u001b[39;49m\u001b[38;5;124;43m\"\u001b[39;49m\u001b[43m,\u001b[49m\u001b[43m \u001b[49m\u001b[43mage\u001b[49m\u001b[43m \u001b[49m\u001b[38;5;241;43m=\u001b[39;49m\u001b[43m \u001b[49m\u001b[38;5;241;43m23\u001b[39;49m\u001b[43m)\u001b[49m\n",
      "\u001b[1;31mTypeError\u001b[0m: mykey() missing 1 required positional argument: 'address'"
     ]
    }
   ],
   "source": [
    "## error code\n",
    "def mykey(name,age,address):\n",
    "    pass\n",
    "mykey(name=\"Willson\", age = 23)"
   ]
  },
  {
   "cell_type": "markdown",
   "id": "c07e04ef",
   "metadata": {},
   "source": [
    "#### To erase the error or problem . we can use \"**\" to any argunments we want to use example is give below:\n"
   ]
  },
  {
   "cell_type": "code",
   "execution_count": 82,
   "id": "71ce247a",
   "metadata": {},
   "outputs": [],
   "source": [
    "def mykey1(**args):\n",
    "    pass\n",
    "mykey1(name=\"Willson\", age = 23)"
   ]
  },
  {
   "cell_type": "markdown",
   "id": "ccfac585",
   "metadata": {},
   "source": [
    "### Q3. What is an iterator in python? Name the method used to initialise the iterator object and the method used for iteration. Use these methods to print the first five elements of the given list [2, 4, 6, 8, 10, 12, 14, 16, 18, 20].\n",
    "### Answer:\n",
    "The iterator in python is the process of accessing one by one (one after another) given object.\n",
    "There are many iterator object ie. List, Set, string, Tuple, Dictionary.\n",
    "There are many methods . ie. The most common is \"for loops\" whic will work in all objects."
   ]
  },
  {
   "cell_type": "code",
   "execution_count": 5,
   "id": "878d3100",
   "metadata": {},
   "outputs": [
    {
     "name": "stdout",
     "output_type": "stream",
     "text": [
      "2\n",
      "4\n",
      "6\n",
      "8\n",
      "10\n",
      "12\n",
      "\n",
      "\n",
      "In list \n",
      "[2, 4, 6, 8, 10, 12]\n"
     ]
    }
   ],
   "source": [
    "lis = [2,4,6,8,10,12,14,16,18,20]\n",
    "for i in range(6):\n",
    "    a = lis[i]\n",
    "    print(a)## printing in single element\n",
    "print(\"\\n\\nIn list \")    \n",
    "    \n",
    "    \n",
    "    \n",
    "## printing in list as well is given by following code \n",
    "\n",
    "lis = [2,4,6,8,10,12,14,16,18,20]\n",
    "lis1 = []\n",
    "for i in range(6):\n",
    "    a = lis[i]\n",
    "    lis1.append(a)\n",
    "print(lis1)\n",
    "    \n",
    "\n"
   ]
  },
  {
   "cell_type": "markdown",
   "id": "1542a347",
   "metadata": {},
   "source": [
    "### Q4. What is a generator function in python? Why yield keyword is used? Give an example of a generator function.\n",
    "### Answer:\n",
    "The function which return iterator when calling like a range function is called generator function in python. <br>\n",
    "The yield keyword is used to create generator function. It's same as return function in function block. <br>\n",
    "Example of generator function is given in the cell below :\n"
   ]
  },
  {
   "cell_type": "code",
   "execution_count": 86,
   "id": "7db3726a",
   "metadata": {},
   "outputs": [
    {
     "name": "stdout",
     "output_type": "stream",
     "text": [
      "2 4 6 8 10 12 14 16 18 20 22 24 26 28 30 32 34 36 38 40 42 44 46 48 50 "
     ]
    }
   ],
   "source": [
    "## example of generator function \n",
    "def even1(n): #This even1 function store the even value upto n number . and gives value upon iteration.\n",
    "    a = 0\n",
    "    while a < n:\n",
    "        a+=2\n",
    "        yield a\n",
    "for i in even1(50):\n",
    "    print(i, end = \" \")"
   ]
  },
  {
   "cell_type": "markdown",
   "id": "6315e6a0",
   "metadata": {},
   "source": [
    "### Q5. Create a generator function for prime numbers less than 1000. Use the next() method to print the first 20 prime numbers.\n",
    "### Answer:\n"
   ]
  },
  {
   "cell_type": "code",
   "execution_count": 9,
   "id": "b30f54b9",
   "metadata": {},
   "outputs": [],
   "source": [
    "# The required code is here .....\n",
    "def primes():\n",
    "    n = 2\n",
    "    while n < 1000:\n",
    "        a = 0  # Reset the count of divisors for each n\n",
    "        for i in range(1, n + 1):\n",
    "            if n % i == 0:\n",
    "                a += 1\n",
    "        if a == 2:  # A prime number has exactly two divisors\n",
    "            yield n\n",
    "        n += 1\n",
    "        "
   ]
  },
  {
   "cell_type": "code",
   "execution_count": 14,
   "id": "f9161406",
   "metadata": {},
   "outputs": [
    {
     "name": "stdout",
     "output_type": "stream",
     "text": [
      "[2, 3, 5, 7, 11, 13, 17, 19, 23, 29, 31, 37, 41, 43, 47, 53, 59, 61, 67, 71, 73, 79, 83, 89, 97, 101, 103, 107, 109, 113, 127, 131, 137, 139, 149, 151, 157, 163, 167, 173, 179, 181, 191, 193, 197, 199, 211, 223, 227, 229, 233, 239, 241, 251, 257, 263, 269, 271, 277, 281, 283, 293, 307, 311, 313, 317, 331, 337, 347, 349, 353, 359, 367, 373, 379, 383, 389, 397, 401, 409, 419, 421, 431, 433, 439, 443, 449, 457, 461, 463, 467, 479, 487, 491, 499, 503, 509, 521, 523, 541, 547, 557, 563, 569, 571, 577, 587, 593, 599, 601, 607, 613, 617, 619, 631, 641, 643, 647, 653, 659, 661, 673, 677, 683, 691, 701, 709, 719, 727, 733, 739, 743, 751, 757, 761, 769, 773, 787, 797, 809, 811, 821, 823, 827, 829, 839, 853, 857, 859, 863, 877, 881, 883, 887, 907, 911, 919, 929, 937, 941, 947, 953, 967, 971, 977, 983, 991, 997]\n"
     ]
    }
   ],
   "source": [
    "l1 = []\n",
    "for i in primes():\n",
    "    l1.append(i)\n",
    "print(l1)\n"
   ]
  },
  {
   "cell_type": "code",
   "execution_count": 21,
   "id": "bbb1e64d",
   "metadata": {},
   "outputs": [
    {
     "name": "stdout",
     "output_type": "stream",
     "text": [
      "2\n",
      "3\n",
      "5\n",
      "7\n",
      "11\n",
      "13\n",
      "17\n",
      "19\n",
      "23\n",
      "29\n",
      "31\n",
      "37\n",
      "41\n",
      "43\n",
      "47\n",
      "53\n",
      "59\n",
      "61\n",
      "67\n",
      "71\n",
      "73\n"
     ]
    }
   ],
   "source": [
    "l2 = iter(l1)\n",
    "for item in range(21):\n",
    "    print(next(l2))\n"
   ]
  },
  {
   "cell_type": "code",
   "execution_count": null,
   "id": "fac4a924",
   "metadata": {},
   "outputs": [],
   "source": []
  }
 ],
 "metadata": {
  "kernelspec": {
   "display_name": "Python 3 (ipykernel)",
   "language": "python",
   "name": "python3"
  },
  "language_info": {
   "codemirror_mode": {
    "name": "ipython",
    "version": 3
   },
   "file_extension": ".py",
   "mimetype": "text/x-python",
   "name": "python",
   "nbconvert_exporter": "python",
   "pygments_lexer": "ipython3",
   "version": "3.11.3"
  }
 },
 "nbformat": 4,
 "nbformat_minor": 5
}
