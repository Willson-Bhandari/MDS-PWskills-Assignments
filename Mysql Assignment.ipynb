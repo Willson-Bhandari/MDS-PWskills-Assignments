{
 "cells": [
  {
   "cell_type": "markdown",
   "id": "4bc1260c-800b-4b17-87cb-3f60025b77d2",
   "metadata": {},
   "source": [
    "# Mysql Assignment"
   ]
  },
  {
   "cell_type": "markdown",
   "id": "b59b37b5-6a96-42cd-9b53-5664cb4e4518",
   "metadata": {},
   "source": [
    "### Q1. What is a database? Differentiate between SQL and NoSQL databases.\n",
    "### Answer:\n",
    "Database is an organized or systematic collection of data or types of data store based on the use of database management system. \n",
    "The major differentiate between SQL and NoSQL databases are as follows:\n",
    "1. SQL database are relational based but NoSQL database are non-relational.\n",
    "2. SQL stand for structured query language and have predefined schema but NoSQL stand for Not\n",
    "only structured query language and have dynamic schema.\n",
    "3. A unique primary key can only be assign to SQL but in case of NoSQL document id can be defined with unique numbers."
   ]
  },
  {
   "cell_type": "markdown",
   "id": "d8b394ee-cfe7-44b6-97b5-aa522d74e058",
   "metadata": {},
   "source": [
    "### Q2. What is DDL? Explain why CREATE, DROP, ALTER, and TRUNCATE are used with an example.\n",
    "### Answer:\n",
    "DDL stands for Data Definition Language, and it is a subset of SQL (Structured Query Language) used to define, manage, and manipulate the structure of a database. DDL statements are used to create, modify, and delete database objects such as tables, indexes, and constraints. Somce common DDL statement are CREATE TABLE, ALTER TABLE, DROP TABLE, CREATE INDEX, etc.\n",
    "<br>\n",
    "The explanation is given as:"
   ]
  },
  {
   "cell_type": "markdown",
   "id": "62f7cf66-1894-4e80-b546-96c782dac46b",
   "metadata": {},
   "source": [
    "1. CREATE:<br>\n",
    "   The CREATE command is used to create new database objects such as tables, indexes, views,       etc. <br>\n",
    "\n",
    "   Example : Creating a Table: <br>\n",
    "   \n",
    "   CREATE TABLE students(         <br>\n",
    "   student_id INT PRIMARY KEY,<br>\n",
    "   name VARCHAR(50),<br>\n",
    "   age INT,<br>\n",
    "   level VARCHAR(50)<br>\n",
    "   ); <br>\n",
    "\n",
    "\n",
    "   Here new table is created with a name called students with a columns  names student_id,              name, age, level.\n",
    "2. DROP <br>\n",
    "   The DROP command is used to delete the given database objects or a database too.\n",
    "\n",
    "   Example: Dropping a Table(students)\n",
    "   \n",
    "   DROP TABLE students; <br>\n",
    "\n",
    "   Here the students table is deleted with all data\n",
    "\n",
    "4. ALTER:<br>\n",
    "   The ALTER command is used to modify the structure of a database object such as adding ,      modifiying or deleting columns or constraints in a table.\n",
    "   \n",
    "   Example: Adding a column to table:\n",
    "\n",
    "\n",
    "   ALTER TABLE students <br>\n",
    "   ADD email VARCHAR(100);<br>\n",
    "\n",
    "\n",
    "   Here new schema ie email is added in the given table which allows us to add data to in it.\n",
    "   \n",
    "5. TRANCATE:<br>\n",
    "   The TRANCATE command is used to delete all rows data from the given table without             deleting its schemas or table structures.\n",
    "\n",
    "   Example: Trancating a Table:\n",
    "\n",
    "\n",
    "   TRANCATE TABLE students; <br>\n",
    "\n",
    "      Here it delete all rows data from the given table without affecting its structure . It       is easy way to delete rows data without deleting table itselfs.\n",
    "    "
   ]
  },
  {
   "cell_type": "markdown",
   "id": "b8924f05-793f-48e9-ad30-1ea7db110927",
   "metadata": {},
   "source": [
    "### Q3. What is DML? Explain INSERT, UPDATE, and DELETE with an example.\n",
    "### Answer:\n",
    "DML stands for Data Manipulation Language, which is a subset of SQL (Structured Query Language) used for managing and manipulating data stored in a relational database management system (RDBMS). DML is responsible for performing tasks such as inserting, updating, and deleting data in a database. The main SQL commands associated with DML are: INSERT, UPDATE, DELETE, etc.<br>\n",
    "The explanation are as follows with exaples.<br>\n",
    "1. INSERT:<br>\n",
    "The INSERT command is to add new record in the table.<br>\n",
    "Example:<br>\n",
    "        INSERT INTO students(student_id, name, age, level)<br>\n",
    "        VALUES <br>\n",
    "        (101, \"Willson\", 23, \"Statistics\"),<br>\n",
    "        (102, \"Manoj\", 22, \"pyhics\");<br>\n",
    "        <br>\n",
    "   #Here new records are added into the table.<br>\n",
    "   <br>\n",
    "2. UPDATE:<br>\n",
    "The UPDATE statement is used to modify existing records in a database table. You specify the table name, set the new values for specific columns, and use a WHERE clause to identify which rows should be updated.<br>\n",
    "Example:<br>\n",
    "<br>\n",
    "     UPDATE students<br>\n",
    "     SET level = \"Statistics\"<br>\n",
    "     WHERE name = \"manoj\";<br>\n",
    "     <br>\n",
    "     Here when the name is manoj . The level of manoj is set to Statistics from physics. Its got modified.<br>\n",
    "<br>\n",
    "3. DELETE:<br>\n",
    "The DELETE statement is used to remove records from a database table based on a specified condition provided in the WHERE clause. If you omit the WHERE clause, it will delete all the rows in the table.<br>\n",
    "Example:<br>\n",
    "<br>\n",
    "DELETE FROM students<br>\n",
    "WHERE student_id = 101;<br>\n",
    "<br>\n",
    "Here it get deleted 101 student id only not whole row unless WHERE clause is omitted.\n"
   ]
  },
  {
   "cell_type": "markdown",
   "id": "ff1cf57a-fbc1-4bc9-bede-bd27c2e01d94",
   "metadata": {},
   "source": [
    "### Q4. What is DQL? Explain SELECT with an example.\n",
    "### Answer:\n",
    "DQL stands for Data Query Language. It is a subset of SQL (Structured Query Language) used for querying and retrieving data from a relational database management system (RDBMS). DQL focuses on the SELECT statement, which allows you to retrieve data from one or more database tables. The primary purpose of DQL is to extract information from the database rather than manipulating it.<br>\n",
    "<br>\n",
    "The explanation of SELECT command is givens as:<br>\n",
    "SELECT :<br>\n",
    "<br>\n",
    "SELECT is used to select data form the table . Here in first example it gives all data/records from the table as:<br>\n",
    "<br>\n",
    "SELECT * FROM students;<br>\n",
    "<br>\n",
    "Also, SELECT is used to select records from specified columns or logical data as example:<br>\n",
    "<br>\n",
    "SELECT ProductName, Price <br>\n",
    "FROM Products <br>\n",
    "WHERE Price > 50;<br>\n",
    "<br>\n",
    "In this example, the SELECT statement is used to query the \"Products\" table, and the WHERE clause is used to filter the results to only include products with a price greater than $50."
   ]
  },
  {
   "cell_type": "markdown",
   "id": "7319279d-2114-4f28-9bf0-0a3688566bd5",
   "metadata": {},
   "source": [
    "### Q5. Explain Primary Key and Foreign Key.\n",
    "### Answer:\n",
    "#### Primary Key:\n",
    "A Primary Key is a column or a set of columns in a table that uniquely identifies each record (row) in that table. It ensures that each row has a unique value in that column or combination of columns.<br>\n",
    "By definition, a Primary Key must contain unique values and cannot contain NULL values.<br>\n",
    "<br>\n",
    "#### Foreign Key:\n",
    "A Foreign Key is a column or a set of columns in a table that establishes a link between the data in two tables. It creates a relationship by referencing the Primary Key of another table.<br>\n",
    "It helps maintain data consistency and ensures that data in one table corresponds to data in another."
   ]
  },
  {
   "cell_type": "markdown",
   "id": "c768a01c-67cf-460b-87ab-fcb07749ac9a",
   "metadata": {},
   "source": [
    "### Q6. Write a python code to connect MySQL to python. Explain the cursor() and execute() method.\n",
    "### Answer:\n",
    "The required python code to connect MySQL to python is give below:<br>\n",
    "<br>\n",
    "import mysql.connector <br>\n",
    "mydb = mysql.connector.connect(<br>\n",
    "       host = \"localhost\",<br>\n",
    "       user = \"root\",<br>\n",
    "       password = \"Mysql_password\"<br>\n",
    "       )<br>\n",
    "1. Cursor () Method:<br>\n",
    "Cursor method refers to a set of functions or methods provided by database management systems (DBMS) or database libraries to interact with database cursors. Cursors in databases are used to manage and navigate through the result sets of SQL queries, allowing you to retrieve and manipulate data row by row. Cursor methods are used to control and manipulate these cursors.<br>\n",
    "Setting a cursor object by the following command in the python.<br>\n",
    "<br>\n",
    "mycursor = mydb.cursor()<br>\n",
    "<br>\n",
    "2. Execute () Method:<br>\n",
    "The execute() method is a commonly used method for SQL. The execute() method is used to send and execute SQL statements or queries against a database.<br>\n",
    "In python , execute () function is used as following code:<br>\n",
    "<br>\n",
    "mycursor.execute(\"sql queries\")<br>\n"
   ]
  },
  {
   "cell_type": "markdown",
   "id": "9d6afbeb-5523-4af2-936d-a6df45589fa7",
   "metadata": {},
   "source": [
    "### Q7. Give the order of execution of SQL clauses in an SQL query.\n",
    "### Answer:\n",
    "In an SQL query, the clauses are generally executed in a specific order, and the sequence of execution can impact the results. The typical order of execution for SQL clauses in a SELECT statement is as follows:<br>\n",
    "<br>\n",
    "1. FROM<br>\n",
    "2. WHERE<br>\n",
    "3. GROUP BY<br>\n",
    "4. HAVING<br>\n",
    "5. SELECT<br>\n",
    "6. DISTINCT<br>\n",
    "7. ORDER BY<br>\n",
    "8. LIMIT<br>"
   ]
  },
  {
   "cell_type": "code",
   "execution_count": null,
   "id": "4d719209-2610-4b5b-bfd6-e7fe153666a9",
   "metadata": {},
   "outputs": [],
   "source": []
  }
 ],
 "metadata": {
  "kernelspec": {
   "display_name": "Python 3 (ipykernel)",
   "language": "python",
   "name": "python3"
  },
  "language_info": {
   "codemirror_mode": {
    "name": "ipython",
    "version": 3
   },
   "file_extension": ".py",
   "mimetype": "text/x-python",
   "name": "python",
   "nbconvert_exporter": "python",
   "pygments_lexer": "ipython3",
   "version": "3.10.12"
  }
 },
 "nbformat": 4,
 "nbformat_minor": 5
}
