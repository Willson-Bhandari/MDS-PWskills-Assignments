{
 "cells": [
  {
   "cell_type": "markdown",
   "id": "3acd2d03-e216-4286-907f-102d10204606",
   "metadata": {},
   "source": [
    "### Q1. Create a Pandas Series that contains the following data: 4, 8, 15, 16, 23, and 42. Then, print the series.\n",
    "### Answer:\n",
    "The required code is given in the next code cell."
   ]
  },
  {
   "cell_type": "code",
   "execution_count": 7,
   "id": "3effbf83-8530-4314-b18a-31b727dfcca4",
   "metadata": {},
   "outputs": [
    {
     "name": "stdout",
     "output_type": "stream",
     "text": [
      "0     4\n",
      "1     8\n",
      "2    15\n",
      "3    16\n",
      "4    23\n",
      "5    42\n",
      "dtype: int64\n"
     ]
    }
   ],
   "source": [
    "import pandas as pd\n",
    "data = pd.Series([4,8,15,16, 23, 42])\n",
    "print(data)"
   ]
  },
  {
   "cell_type": "markdown",
   "id": "a8b43415-ab76-43a9-8585-6106e253bcf9",
   "metadata": {},
   "source": [
    "### Q2. Create a variable of list type containing 10 elements in it, and apply pandas.Series function on the variable print it.\n",
    "### Answer:\n",
    "The required code is given in the next code cell."
   ]
  },
  {
   "cell_type": "code",
   "execution_count": 10,
   "id": "2f8b47c6-d95c-4820-b9dd-2eb54f443fdd",
   "metadata": {},
   "outputs": [
    {
     "name": "stdout",
     "output_type": "stream",
     "text": [
      "0       123\n",
      "1       234\n",
      "2        34\n",
      "3         5\n",
      "4     False\n",
      "5      True\n",
      "6     Punit\n",
      "7    Thamel\n",
      "8      92.2\n",
      "9        88\n",
      "dtype: object\n"
     ]
    }
   ],
   "source": [
    "# Creating the variable as \"var1\"\n",
    "var1 = [123,234,34,5, False, True,\"Punit\", \"Thamel\", 92.2, 88]\n",
    "series1 = pd.Series(var1)\n",
    "print(series1)"
   ]
  },
  {
   "attachments": {
    "bb068764-d77e-4718-af51-015c295e1f29.png": {
     "image/png": "[encoded data removed]"
    }
   },
   "cell_type": "markdown",
   "id": "56aaa700-d8b7-43b7-950a-00d3aa40c436",
   "metadata": {},
   "source": [
    "### Q3. Create a Pandas DataFrame that contains the following data:\n",
    "![Screenshot from 2023-11-09 09-57-08.png](attachment:bb068764-d77e-4718-af51-015c295e1f29.png)\n",
    "### Then, print the DataFrame\n",
    "### Answer:\n",
    "The required code is given in the next code cell:"
   ]
  },
  {
   "cell_type": "code",
   "execution_count": 15,
   "id": "040e3dce-f653-4ff1-877c-db6a2cb1337c",
   "metadata": {},
   "outputs": [
    {
     "name": "stdout",
     "output_type": "stream",
     "text": [
      "  Name  Age Gender\n",
      " Alice   25 Female\n",
      "   Bob   30   Male\n",
      "Claire   27 Female\n"
     ]
    }
   ],
   "source": [
    "# Creating the variable containing the data of dictionary type as below:\n",
    "data1 = {\"Name\":[\"Alice\", \"Bob\", \"Claire\"], \"Age\":[25,30,27], \"Gender\":[\"Female\", \"Male\", \"Female\"]}\n",
    "df = pd.DataFrame(data1)\n",
    "print(df.to_string(index = False))\n"
   ]
  },
  {
   "cell_type": "markdown",
   "id": "6aae485e-afd4-4011-bad1-2c5fbfa45daa",
   "metadata": {},
   "source": [
    "### Q4. What is ‘DataFrame’ in pandas and how is it different from pandas.series? Explain with an example.\n",
    "### Answer:\n",
    "DataFrame is a two-dimensional, tabular data structure with rows and columns. It is also known as a structured data frame.<br>\n",
    "The major difference between pandas DataFrame and Series is, that DataFrame is a two-dimensional data structure with rows and columns but Series is a one-dimensional (either rows or columns) data structure with labeled indices.<br>\n",
    "Some of the key differences are as follows:\n",
    "> 1. **structure:**\n",
    ">   - DataFrame: It can consist of multiple columns with respective data types.\n",
    ">   - Series: It is one-dimensional so it has either rows or columns.<br>\n",
    "Example: In the below code cell."
   ]
  },
  {
   "cell_type": "code",
   "execution_count": 20,
   "id": "3102c01c-7fc1-4679-9967-81b0571d72c0",
   "metadata": {},
   "outputs": [
    {
     "name": "stdout",
     "output_type": "stream",
     "text": [
      "DataFrame\n",
      "\n",
      "\n",
      "     Name  Age  Gender\n",
      "0   Alice   25  Female\n",
      "1     Bob   30    Male\n",
      "2  Claire   27  Female\n",
      "\n",
      "\n",
      "\n",
      "\n",
      "Series\n",
      "\n",
      "\n",
      "0       123\n",
      "1       234\n",
      "2        34\n",
      "3         5\n",
      "4     False\n",
      "5      True\n",
      "6     Punit\n",
      "7    Thamel\n",
      "8      92.2\n",
      "9        88\n",
      "dtype: object\n"
     ]
    }
   ],
   "source": [
    "import pandas as pd\n",
    "\n",
    "# DataFrame:\n",
    "\n",
    "print(\"DataFrame\")\n",
    "print(\"\\n\")\n",
    "data1 = {\"Name\":[\"Alice\", \"Bob\", \"Claire\"], \"Age\":[25,30,27], \"Gender\":[\"Female\", \"Male\", \"Female\"]}\n",
    "df = pd.DataFrame(data1)\n",
    "print(df.to_string())# this gives the output as tabular data with columns and rows.\n",
    "print(\"\\n\")\n",
    "print(\"\\n\")\n",
    "\n",
    "# Series:\n",
    "print(\"Series\")\n",
    "print(\"\\n\")\n",
    "var1 = [123,234,34,5, False, True,\"Punit\", \"Thamel\", 92.2, 88]\n",
    "series1 = pd.Series(var1)\n",
    "print(series1) # Series gives the data in the one dimension , here in this example it gives as column"
   ]
  },
  {
   "cell_type": "markdown",
   "id": "212d73d7-0054-41be-8358-878363c7060b",
   "metadata": {},
   "source": [
    "> 2. **Creation:**\n",
    "> - DataFrame: It is created using the \"pd.DataFrame()\" constructor with data in the form of a dictionary, list of lists, NumPy array.\n",
    "> - Series: It is created using the \"pd.Series()\" constructor with data in the form of a list, NumPy array, or another Series.\n",
    "> 3. **Indexing:**\n",
    ">   - DataFrame: It has both row and column indices. Columns can be accessed using column labels, and rows can be accessed using row indices.\n",
    ">   - Series: It has a single index for the values, and can be accessed using automated indices or from user-defined labels.<br>\n",
    "Example in the below code cell:\n"
   ]
  },
  {
   "cell_type": "code",
   "execution_count": 35,
   "id": "49f292f1-7d57-4ebd-b286-1d825efc94d0",
   "metadata": {},
   "outputs": [
    {
     "name": "stdout",
     "output_type": "stream",
     "text": [
      "DataFrame\n",
      "\n",
      "\n",
      "     Name  Age  Gender\n",
      "0   Alice   25  Female\n",
      "1     Bob   30    Male\n",
      "2  Claire   27  Female\n",
      "\n",
      "\n",
      "Accessing first column using \"Name\" label\n",
      "0     Alice\n",
      "1       Bob\n",
      "2    Claire\n",
      "Name: Name, dtype: object\n",
      "\n",
      "\n",
      "Accessing 3rd row using 2 index\n",
      "Name      Claire\n",
      "Age           27\n",
      "Gender    Female\n",
      "Name: 2, dtype: object\n",
      "\n",
      "\n",
      "\n",
      "\n",
      "Series\n",
      "\n",
      "\n",
      "0       123\n",
      "1       234\n",
      "2        34\n",
      "3         5\n",
      "4     False\n",
      "5      True\n",
      "6     Punit\n",
      "7    Thamel\n",
      "8      92.2\n",
      "9        88\n",
      "dtype: object\n",
      "\n",
      "\n",
      "The first element of the Series: 123\n",
      "The fifth element of the Series:False\n"
     ]
    }
   ],
   "source": [
    "import pandas as pd\n",
    "\n",
    "# DataFrame:\n",
    "\n",
    "print(\"DataFrame\")\n",
    "print(\"\\n\")\n",
    "data1 = {\"Name\":[\"Alice\", \"Bob\", \"Claire\"], \"Age\":[25,30,27], \"Gender\":[\"Female\", \"Male\", \"Female\"]}\n",
    "df = pd.DataFrame(data1)\n",
    "print(df.to_string())\n",
    "print(\"\\n\")\n",
    "print(\"Accessing first column using \\\"Name\\\" label\")\n",
    "print(df[\"Name\"])\n",
    "print(\"\\n\")\n",
    "print(\"Accessing 3rd row using 2 index\")\n",
    "print(df.iloc[2])# accessing column with its label name \"Name\".\n",
    "print(\"\\n\")\n",
    "print(\"\\n\")\n",
    "\n",
    "# Series:\n",
    "print(\"Series\")\n",
    "print(\"\\n\")\n",
    "var1 = [123,234,34,5, False, True,\"Punit\", \"Thamel\", 92.2, 88]\n",
    "series1 = pd.Series(var1)\n",
    "print(series1)\n",
    "print(\"\\n\")\n",
    "print(f\"The first element of the Series: {series1[0]}\")# access the first element in the series\n",
    "print(f\"The fifth element of the Series:{series1[4]}\") # for the 5th element\n"
   ]
  },
  {
   "cell_type": "markdown",
   "id": "5111fe76-9221-4038-900a-d7c430e5df8b",
   "metadata": {},
   "source": [
    "### Q5. What are some common functions you can use to manipulate data in a Pandas DataFrame? Can you give an example of when you might use one of these functions?\n",
    "### Answer:\n"
   ]
  },
  {
   "cell_type": "code",
   "execution_count": null,
   "id": "97611833-e75a-459f-b9d0-9ee4ab172a01",
   "metadata": {},
   "outputs": [],
   "source": []
  }
 ],
 "metadata": {
  "kernelspec": {
   "display_name": "Python 3 (ipykernel)",
   "language": "python",
   "name": "python3"
  },
  "language_info": {
   "codemirror_mode": {
    "name": "ipython",
    "version": 3
   },
   "file_extension": ".py",
   "mimetype": "text/x-python",
   "name": "python",
   "nbconvert_exporter": "python",
   "pygments_lexer": "ipython3",
   "version": "3.10.12"
  }
 },
 "nbformat": 4,
 "nbformat_minor": 5
}
