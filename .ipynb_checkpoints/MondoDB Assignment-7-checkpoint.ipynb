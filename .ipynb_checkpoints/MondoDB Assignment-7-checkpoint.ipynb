{
 "cells": [
  {
   "cell_type": "markdown",
   "id": "d31ce4e3-1789-438e-8011-43cab1015617",
   "metadata": {},
   "source": [
    "### Q1. What is MongoDB? Explain non-relational databases in short. In which scenarios it is preferred to use MongoDB over SQL databases?\n",
    "### Answer:\n",
    "MongoDB is a popular open-source, NoSQL (non-relational) database management system that is designed to store, retrieve, and manage data in a flexible and scalable way. It is used for handling large volumes of unstructured or semi-structured data, and it is particularly well-suited for applications that require high availability and horizontal scaling.<br>\n",
    "<br>\n",
    "A non-relational database is a type of database management system that does not use the traditional tabular structure or rows and columns seen in relational databases. Instead, it stores data in more flexible and dynamic formats, such as documents, key-value pairs, graphs, or wide-column stores. Non-relational databases are often chosen for their ability to handle unstructured or semi-structured data, scalability, and agility in accommodating changing data requirements. They are commonly used in modern web applications, big data, and real-time analytics.<br>\n",
    "<br>\n",
    "The advantages of using MongoDB over SQL databases are as follows:<br>\n",
    "> 1. **Unstructured or Semi-Structured Data:** When data doesn't fit neatly into fixed tables with well-defined schemas, MongoDB's document-oriented approach allows for flexible and evolving data models. So it is suitable for where the data structure is not clearly defined or may change over time.<br>\n",
    "> 2. **High Volume of Data:** MongoDB is designed for horizontal scalability, making it a good choice for applications that need to handle large volumes of data and high traffic. It can distribute data across multiple servers, providing better performance and reliability.<br>\n",
    ">  3. **Geographic and Geospatial Data:** MongoDB has strong support for geospatial data and queries, making it a good choice for applications that involve location-based services, such as mapping and location tracking.<br>\n",
    "<br>\n",
    "> The central point of selection of MongoDB and SQL databases purely depends on the nature of the data. So the databases are chosen accordingly."
   ]
  },
  {
   "cell_type": "markdown",
   "id": "377de9da-7436-4981-9dc0-e9a2af76a636",
   "metadata": {},
   "source": [
    "### Q2. State and Explain the features of MongoDB.\n",
    "### Answer:\n",
    "MongoDB offers several features that make it a popular choice for modern database applications.<br>\n",
    "Here are some of its key features:<br>\n",
    "> 1. **Document-Oriented Data Model:** MongoDB stores data in flexible, JSON-like documents called BSON(Binary JSON).These documents can have varying structures within the same collection, allowing for a dynamic and schema-less data model.\n",
    "> 2. **NoSQL Database:** MongoDB is a NoSQL database, which means it doesn't rely on the traditional relational database tables and schemas. Its application is flexibility for evolving and unstructured data.\n",
    "> 3. **Dynamic Schema:** MongoDB supports horizontal scaling, enabling you to distribute data across multiple servers or clusters. This makes it suitable for applications with high data volumes and traffic, as we can add more servers as needed.\n",
    "> 4. **Geospatial Indexing:** MongoDB offers native support for geospatial data and queries, making it suitable for location-based applications that require efficient handling of geographic information.\n",
    "> 5. **Open Source:** MongoDB is open source, meaning it can be used for free and access its source code, allowing for customization and community contributions.\n",
    "> 6. **Rich Query Language:** MongoDB provides a powerful query language that supports various query operators, indexing, and advanced filtering, making it capable of complex data retrieval and analysis."
   ]
  },
  {
   "cell_type": "markdown",
   "id": "e24f94b2-ecaf-474a-b149-0ae05bc578c3",
   "metadata": {},
   "source": [
    "### Q3. Write a code to connect MongoDB to Python. Also, create a database and a collection in MongoDB.\n",
    "### Answer:\n",
    "The code to connect MongoDB Atlas to Python is given below\n"
   ]
  },
  {
   "cell_type": "code",
   "execution_count": 2,
   "id": "e13ca58e-c0a0-421b-ac50-8b04c3ae3d60",
   "metadata": {},
   "outputs": [],
   "source": [
    "import pymongo\n",
    "mydb =pymongo.MongoClient(\"mongodb+srv://mydb:<password>@cluster0.eqh73l8.mongodb.net/?retryWrites=true&w=majority\")\n"
   ]
  },
  {
   "cell_type": "markdown",
   "id": "91277cbd-e4b7-401e-8624-f5d4e1118c02",
   "metadata": {},
   "source": [
    "> If the above code doesn't give error then it is connect to MongoDB Atlas."
   ]
  },
  {
   "cell_type": "markdown",
   "id": "a2659647-cbea-473b-9317-7065cb8174fd",
   "metadata": {},
   "source": [
    "#### Creating Database and collection in MongoDB as given in the code:"
   ]
  },
  {
   "cell_type": "code",
   "execution_count": 3,
   "id": "87378917-f08d-4db6-8f67-02056862b170",
   "metadata": {},
   "outputs": [],
   "source": [
    "import pymongo\n",
    "mydb =pymongo.MongoClient(\"mongodb+srv://mydb:<password>@cluster0.eqh73l8.mongodb.net/?retryWrites=true&w=majority\")\n",
    "my_database = mydb[\"Amrit_School\"] #This line will create database name \"Amrit_school\"\n",
    "\n",
    "my_coll = my_database[\"student_details\"] #This line will create collection name \"student_details\"\n"
   ]
  },
  {
   "cell_type": "markdown",
   "id": "de467ee9-7885-4264-9cdf-2244639eb28e",
   "metadata": {},
   "source": [
    "### Q4. Using the database and the collection created in question number 3, write a code to insert one record, and insert many records. Use the find() and find_one() methods to print the inserted record.\n",
    "### Answer:\n",
    "Using directly the connection, database, and collection created in question 3.<br>\n",
    "> #### To insert one record/document the code is given below:"
   ]
  },
  {
   "cell_type": "code",
   "execution_count": 10,
   "id": "786153ed-9977-4b51-9490-3dfac0815b5f",
   "metadata": {
    "scrolled": true
   },
   "outputs": [
    {
     "name": "stdout",
     "output_type": "stream",
     "text": [
      "{'_id': ObjectId('6545cb98a54cebac4268ddb2'), 'Name': 'Ram', 'Class': 10, 'Roll No.': 4, 'Address': 'Thamel'}\n"
     ]
    }
   ],
   "source": [
    "import pymongo\n",
    "# Use your password in the <password>\n",
    "mydb =pymongo.MongoClient(\"mongodb+srv://mydb:<password>@cluster0.eqh73l8.mongodb.net/?retryWrites=true&w=majority\")\n",
    "\n",
    "#This line will create the database name \"Amrit_school\"\n",
    "my_database = mydb[\"Amrit_School\"] \n",
    "\n",
    "#This line will create the collection name \"student_details\"\n",
    "my_coll = my_database[\"student_details\"]\n",
    "\n",
    "#This is one record\n",
    "stu_1 = {\"Name\":\"Ram\", \"Class\":10, \"Roll No.\":4, \"Address\":\"Thamel\"}  \n",
    "\n",
    "# this line is creating the record \n",
    "record1 = my_coll.insert_one(stu_1) \n",
    "\n",
    "#This line is accessing the record created using the find_one() method.\n",
    "access = my_coll.find_one()\n",
    "print(access)\n",
    "\n"
   ]
  },
  {
   "cell_type": "markdown",
   "id": "b046d079-427b-400c-95a5-a2301e23a30f",
   "metadata": {},
   "source": [
    ">#### To insert multiple record/document the code is given below:"
   ]
  },
  {
   "cell_type": "code",
   "execution_count": 22,
   "id": "4bb9f55e-3b84-4c23-a38b-11d90eb03f4d",
   "metadata": {},
   "outputs": [],
   "source": [
    "import pymongo\n",
    "mydb =pymongo.MongoClient(\"mongodb+srv://mydb:<password>@cluster0.eqh73l8.mongodb.net/?retryWrites=true&w=majority\")\n",
    "#This line will create the database name \"Amrit_school\"\n",
    "my_database = mydb[\"Amrit_School\"] \n",
    "\n",
    "#This line will create the collection name \"student_details\"\n",
    "my_coll = my_database[\"student_details\"]\n",
    "\n",
    "# This given list of dictionaries as list_dict is considered as multiple records.\n",
    "list_dict = [\n",
    "  { \"name\": \"Amy\", \"address\": \"Apple st 652\"},\n",
    "  { \"name\": \"Hannah\", \"address\": \"Mountain 21\"},\n",
    "  { \"name\": \"Michael\", \"address\": \"Valley 345\"},\n",
    "  { \"name\": \"Sandy\", \"address\": \"Ocean blvd 2\"},\n",
    "  { \"name\": \"Betty\", \"address\": \"Green Grass 1\"},\n",
    "  { \"name\": \"Richard\", \"address\": \"Sky st 331\"},\n",
    "  { \"name\": \"Susan\", \"address\": \"One way 98\"},\n",
    "  { \"name\": \"Vicky\", \"address\": \"Yellow Garden 2\"},\n",
    "  { \"name\": \"Ben\", \"address\": \"Park Lane 38\"},\n",
    "  { \"name\": \"William\", \"address\": \"Central st 954\"},\n",
    "  { \"name\": \"Chuck\", \"address\": \"Main Road 989\"},\n",
    "  { \"name\": \"Viola\", \"address\": \"Sideway 1633\"},\n",
    "  { \"name\": \"Amy\", \"address\": \"Apple st 652\"},\n",
    "  { \"name\": \"Hannah\", \"address\": \"Mountain 21\"},\n",
    "  { \"name\": \"Michael\", \"address\": \"Valley 345\"},\n",
    "  { \"name\": \"Sandy\", \"address\": \"Ocean blvd 2\"},\n",
    "  { \"name\": \"Betty\", \"address\": \"Green Grass 1\"},\n",
    "  { \"name\": \"Richard\", \"address\": \"Sky st 331\"},\n",
    "  { \"name\": \"Susan\", \"address\": \"One way 98\"},\n",
    "  { \"name\": \"Vicky\", \"address\": \"Yellow Garden 2\"},\n",
    "  { \"name\": \"Ben\", \"address\": \"Park Lane 38\"},\n",
    "  { \"name\": \"William\", \"address\": \"Central st 954\"},\n",
    "  { \"name\": \"Chuck\", \"address\": \"Main Road 989\"},\n",
    "  { \"name\": \"Viola\", \"address\": \"Sideway 1633\"}\n",
    "]\n",
    "#This line is creating/inserting multiple records.\n",
    "record2 = my_coll.insert_many(list_dict)\n"
   ]
  },
  {
   "cell_type": "code",
   "execution_count": 23,
   "id": "a508b605-d83a-433f-bc49-1fc97f093b18",
   "metadata": {},
   "outputs": [
    {
     "name": "stdout",
     "output_type": "stream",
     "text": [
      "{'_id': ObjectId('6545cd46a54cebac4268ddb6'), 'Name': 'Ram', 'Class': 10, 'Roll No.': 4, 'Address': 'Thamel'}\n",
      "{'_id': ObjectId('6545cf1ba54cebac4268ddb8'), 'name': 'Amy', 'address': 'Apple st 652'}\n",
      "{'_id': ObjectId('6545cf1ba54cebac4268ddb9'), 'name': 'Hannah', 'address': 'Mountain 21'}\n",
      "{'_id': ObjectId('6545cf1ba54cebac4268ddba'), 'name': 'Michael', 'address': 'Valley 345'}\n",
      "{'_id': ObjectId('6545cf1ba54cebac4268ddbb'), 'name': 'Sandy', 'address': 'Ocean blvd 2'}\n",
      "{'_id': ObjectId('6545cf1ba54cebac4268ddbc'), 'name': 'Betty', 'address': 'Green Grass 1'}\n",
      "{'_id': ObjectId('6545cf1ba54cebac4268ddbd'), 'name': 'Richard', 'address': 'Sky st 331'}\n",
      "{'_id': ObjectId('6545cf1ba54cebac4268ddbe'), 'name': 'Susan', 'address': 'One way 98'}\n",
      "{'_id': ObjectId('6545cf1ba54cebac4268ddbf'), 'name': 'Vicky', 'address': 'Yellow Garden 2'}\n",
      "{'_id': ObjectId('6545cf1ba54cebac4268ddc0'), 'name': 'Ben', 'address': 'Park Lane 38'}\n",
      "{'_id': ObjectId('6545cf1ba54cebac4268ddc1'), 'name': 'William', 'address': 'Central st 954'}\n",
      "{'_id': ObjectId('6545cf1ba54cebac4268ddc2'), 'name': 'Chuck', 'address': 'Main Road 989'}\n",
      "{'_id': ObjectId('6545cf1ba54cebac4268ddc3'), 'name': 'Viola', 'address': 'Sideway 1633'}\n",
      "{'_id': ObjectId('6545d01ca54cebac4268ddc5'), 'name': 'Amy', 'address': 'Apple st 652'}\n",
      "{'_id': ObjectId('6545d01ca54cebac4268ddc6'), 'name': 'Hannah', 'address': 'Mountain 21'}\n",
      "{'_id': ObjectId('6545d01ca54cebac4268ddc7'), 'name': 'Michael', 'address': 'Valley 345'}\n",
      "{'_id': ObjectId('6545d01ca54cebac4268ddc8'), 'name': 'Sandy', 'address': 'Ocean blvd 2'}\n",
      "{'_id': ObjectId('6545d01ca54cebac4268ddc9'), 'name': 'Betty', 'address': 'Green Grass 1'}\n",
      "{'_id': ObjectId('6545d01ca54cebac4268ddca'), 'name': 'Richard', 'address': 'Sky st 331'}\n",
      "{'_id': ObjectId('6545d01ca54cebac4268ddcb'), 'name': 'Susan', 'address': 'One way 98'}\n",
      "{'_id': ObjectId('6545d01ca54cebac4268ddcc'), 'name': 'Vicky', 'address': 'Yellow Garden 2'}\n",
      "{'_id': ObjectId('6545d01ca54cebac4268ddcd'), 'name': 'Ben', 'address': 'Park Lane 38'}\n",
      "{'_id': ObjectId('6545d01ca54cebac4268ddce'), 'name': 'William', 'address': 'Central st 954'}\n",
      "{'_id': ObjectId('6545d01ca54cebac4268ddcf'), 'name': 'Chuck', 'address': 'Main Road 989'}\n",
      "{'_id': ObjectId('6545d01ca54cebac4268ddd0'), 'name': 'Viola', 'address': 'Sideway 1633'}\n"
     ]
    }
   ],
   "source": [
    "#This line accesses all created records in the collection student_details including the previous one.\n",
    "for x in my_coll.find():\n",
    "    print(x)"
   ]
  },
  {
   "cell_type": "markdown",
   "id": "4df16bb0-77a4-4d01-9b07-e822c3d84501",
   "metadata": {},
   "source": [
    "### Q5. Explain how you can use the find() method to query the MongoDB database. Write a simple code to demonstrate this.\n",
    "### Answer:\n",
    "The Find() method is used to query the data from the collection of the database. It helps to filter and select the data. It accepts various parameters to customize the query. Some of the parameters are as follows:<br>\n",
    "<br>\n",
    "<br> \n",
    "Here is the syntax of the find() method.<br>\n",
    "**db.collectionName.find(query, projection)** \n",
    "> 1. **Query(mandatory):** The first parameter is the query document, which specifies the criteria for selecting documents from the collection. It defines the filter conditions that documents must match to be retrieved.\n",
    "> 2. **Projection(Optional):** The second parameter, known as \"projection,\" is also optional. It allows you to specify which fields from the selected documents should be included or excluded in the query results. You can include fields by setting their value to 1 and exclude fields by setting their value to 0.\n",
    "> 3. **Sort(Optional):** The sorting document specifies one or more fields by which to sort the documents and the sort order (ascending or descending).\n",
    "> 4. **Limit(Optional):** The  \"limit,\" which allows you to restrict the number of documents returned by the query. It specifies the maximum number of documents to return.\n",
    "#### The code for the query is :\n"
   ]
  },
  {
   "cell_type": "code",
   "execution_count": 10,
   "id": "2254f87f-9146-421f-b08d-111497620d2f",
   "metadata": {},
   "outputs": [],
   "source": [
    "import pymongo\n",
    "mydb =pymongo.MongoClient(\"mongodb+srv://mydb:<password>@cluster0.eqh73l8.mongodb.net/?retryWrites=true&w=majority\")\n",
    "#This line will create the database name \"Amrit_school\"\n",
    "my_database = mydb[\"Amrit_School\"] \n",
    "\n",
    "#This line will create the collection name \"student_details\"\n",
    "my_coll = my_database[\"student_details\"]\n",
    "\n",
    "# This given list of dictionaries as list_dict is considered as multiple records.\n",
    "list_dict = [\n",
    "  { \"name\": \"Amy\", \"address\": \"Apple st 652\"},\n",
    "  { \"name\": \"Hannah\", \"address\": \"Mountain 21\"},\n",
    "  { \"name\": \"Michael\", \"address\": \"Valley 345\"},\n",
    "  { \"name\": \"Sandy\", \"address\": \"Ocean blvd 2\"},\n",
    "  { \"name\": \"Betty\", \"address\": \"Green Grass 1\"},\n",
    "  { \"name\": \"Richard\", \"address\": \"Sky st 331\"},\n",
    "  { \"name\": \"Susan\", \"address\": \"One way 98\"},\n",
    "  { \"name\": \"Vicky\", \"address\": \"Yellow Garden 2\"},\n",
    "  { \"name\": \"Ben\", \"address\": \"Park Lane 38\"},\n",
    "  { \"name\": \"William\", \"address\": \"Central st 954\"},\n",
    "  { \"name\": \"Chuck\", \"address\": \"Main Road 989\"},\n",
    "  { \"name\": \"Viola\", \"address\": \"Sideway 1633\"},\n",
    "  { \"name\": \"Amy\", \"address\": \"Apple st 652\"},\n",
    "  { \"name\": \"Hannah\", \"address\": \"Mountain 21\"},\n",
    "  { \"name\": \"Michael\", \"address\": \"Valley 345\"},\n",
    "  { \"name\": \"Sandy\", \"address\": \"Ocean blvd 2\"},\n",
    "  { \"name\": \"Betty\", \"address\": \"Green Grass 1\"},\n",
    "  { \"name\": \"Richard\", \"address\": \"Sky st 331\"},\n",
    "  { \"name\": \"Susan\", \"address\": \"One way 98\"},\n",
    "  { \"name\": \"Vicky\", \"address\": \"Yellow Garden 2\"},\n",
    "  { \"name\": \"Ben\", \"address\": \"Park Lane 38\"},\n",
    "  { \"name\": \"William\", \"address\": \"Central st 954\"},\n",
    "  { \"name\": \"Chuck\", \"address\": \"Main Road 989\"},\n",
    "  { \"name\": \"Viola\", \"address\": \"Sideway 1633\"}\n",
    "]\n",
    "#This line is creating/inserting multiple records.\n",
    "record2 = my_coll.insert_many(list_dict)\n"
   ]
  },
  {
   "cell_type": "markdown",
   "id": "2d340638-9847-4a10-b8c6-496cda4d4d2a",
   "metadata": {},
   "source": [
    "#### This find() method will give documents whose name is Vicky:"
   ]
  },
  {
   "cell_type": "code",
   "execution_count": 11,
   "id": "5140c893-e14d-462a-b6da-97e9e2ee61f4",
   "metadata": {},
   "outputs": [
    {
     "name": "stdout",
     "output_type": "stream",
     "text": [
      "{'_id': ObjectId('6545cf1ba54cebac4268ddbf'), 'name': 'Vicky', 'address': 'Yellow Garden 2'}\n",
      "{'_id': ObjectId('6545d01ca54cebac4268ddcc'), 'name': 'Vicky', 'address': 'Yellow Garden 2'}\n"
     ]
    }
   ],
   "source": [
    "find1 = my_coll.find({\"name\":\"Vicky\"})\n",
    "for x in find1:\n",
    "    print(x)"
   ]
  },
  {
   "cell_type": "markdown",
   "id": "d2c744b7-9064-4849-bbaa-8ee6ad4a71ac",
   "metadata": {},
   "source": [
    "#### This find() method will give the documents who are from the given address:"
   ]
  },
  {
   "cell_type": "code",
   "execution_count": 12,
   "id": "f1a6ebf5-1507-42fc-87b6-4913f41e90d1",
   "metadata": {},
   "outputs": [
    {
     "name": "stdout",
     "output_type": "stream",
     "text": [
      "{'_id': ObjectId('6545cf1ba54cebac4268ddc2'), 'name': 'Chuck', 'address': 'Main Road 989'}\n",
      "{'_id': ObjectId('6545d01ca54cebac4268ddcf'), 'name': 'Chuck', 'address': 'Main Road 989'}\n"
     ]
    }
   ],
   "source": [
    "find1 = my_coll.find({\"address\": \"Main Road 989\"})\n",
    "for x in find1:\n",
    "    print(x)"
   ]
  },
  {
   "cell_type": "markdown",
   "id": "47c7dd8b-4b77-4e09-9a67-96e39b27b926",
   "metadata": {},
   "source": [
    "#### This find() method will give the documents excluding \"_id\":"
   ]
  },
  {
   "cell_type": "code",
   "execution_count": 15,
   "id": "94be40b1-8977-49e2-9b9a-a2312ad6d444",
   "metadata": {},
   "outputs": [
    {
     "name": "stdout",
     "output_type": "stream",
     "text": [
      "{'name': 'Chuck', 'address': 'Main Road 989'}\n",
      "{'name': 'Chuck', 'address': 'Main Road 989'}\n"
     ]
    }
   ],
   "source": [
    "#The documents who are from the given address:\n",
    "find1 = my_coll.find({\"address\": \"Main Road 989\"}, {\"_id\":0})\n",
    "for x in find1:\n",
    "    print(x)"
   ]
  },
  {
   "cell_type": "markdown",
   "id": "afb03417-e44b-48ed-966f-e1f841fdd63a",
   "metadata": {},
   "source": [
    "### Q6. Explain the sort() method. Give an example to demonstrate sorting in MongoDB.\n",
    "### Answer:\n",
    "The sort() method in MongoDB is used to sort the documents within a collection based on one or more fields. It allows you to specify the sorting order, which can be either ascending (1) or descending (-1). The sorted documents are returned as a cursor, which can be iterated through to access the results.<br>\n",
    "<br>\n",
    "#### The example for sorting is given below:"
   ]
  },
  {
   "cell_type": "code",
   "execution_count": 18,
   "id": "f2e98be4-dad1-4f9b-8170-502a8db1ac55",
   "metadata": {},
   "outputs": [],
   "source": [
    "import pymongo\n",
    "mydb =pymongo.MongoClient(\"mongodb+srv://mydb:<password>@cluster0.eqh73l8.mongodb.net/?retryWrites=true&w=majority\")\n",
    "#This line will create the database name \"Amrit_school\"\n",
    "my_database = mydb[\"Amrit_School\"] \n",
    "\n",
    "#This line will create the collection name \"student_details\"\n",
    "my_coll2 = my_database[\"students\"]\n",
    "\n",
    "dict2 = [\n",
    "    {\"Name\":\"Willson\", \"Level\":10, \"Age\":14},\n",
    "    {\"Name\":\"Manoj\", \"Level\":10, \"Age\":15},\n",
    "    {\"Name\":\"Dhiraj\", \"Level\":10, \"Age\":13},\n",
    "    {\"Name\":\"Neerajan\", \"Level\":10, \"Age\":12},\n",
    "    {\"Name\":\"Rupesh\", \"Level\":10, \"Age\":13},\n",
    "    {\"Name\":\"Sital\", \"Level\":10, \"Age\":15},\n",
    "    {\"Name\":\"Dikshya\", \"Level\":10, \"Age\":16},\n",
    "    {\"Name\":\"Peter\", \"Level\":10, \"Age\":18},\n",
    "    {\"Name\":\"Akash\", \"Level\":10, \"Age\":14},\n",
    "    {\"Name\":\"Rudra\", \"Level\":10, \"Age\":15},\n",
    "    {\"Name\":\"Binita\", \"Level\":10, \"Age\":12}\n",
    "]\n",
    "\n",
    "record3 = my_coll2.insert_many(dict2)\n",
    "    \n",
    "    "
   ]
  },
  {
   "cell_type": "markdown",
   "id": "879a6022-95d9-4c1e-81e3-3be1e81c2e81",
   "metadata": {},
   "source": [
    "#### Sorting field \"Age\" in ascending/descending order:"
   ]
  },
  {
   "cell_type": "code",
   "execution_count": 27,
   "id": "ec3a3304-ae88-44c2-bb65-f47049a10951",
   "metadata": {},
   "outputs": [
    {
     "name": "stdout",
     "output_type": "stream",
     "text": [
      "Ascending Sort for Age field\n",
      "\n",
      "\n",
      "{'_id': ObjectId('6548af0fc40457443568bf08'), 'Name': 'Neerajan', 'Level': 10, 'Age': 12}\n",
      "{'_id': ObjectId('6548af0fc40457443568bf0f'), 'Name': 'Binita', 'Level': 10, 'Age': 12}\n",
      "{'_id': ObjectId('6548af0fc40457443568bf07'), 'Name': 'Dhiraj', 'Level': 10, 'Age': 13}\n",
      "{'_id': ObjectId('6548af0fc40457443568bf09'), 'Name': 'Rupesh', 'Level': 10, 'Age': 13}\n",
      "{'_id': ObjectId('6548af0fc40457443568bf05'), 'Name': 'Willson', 'Level': 10, 'Age': 14}\n",
      "{'_id': ObjectId('6548af0fc40457443568bf0d'), 'Name': 'Akash', 'Level': 10, 'Age': 14}\n",
      "{'_id': ObjectId('6548af0fc40457443568bf06'), 'Name': 'Manoj', 'Level': 10, 'Age': 15}\n",
      "{'_id': ObjectId('6548af0fc40457443568bf0a'), 'Name': 'Sital', 'Level': 10, 'Age': 15}\n",
      "{'_id': ObjectId('6548af0fc40457443568bf0e'), 'Name': 'Rudra', 'Level': 10, 'Age': 15}\n",
      "{'_id': ObjectId('6548af0fc40457443568bf0b'), 'Name': 'Dikshya', 'Level': 10, 'Age': 16}\n",
      "{'_id': ObjectId('6548af0fc40457443568bf0c'), 'Name': 'Peter', 'Level': 10, 'Age': 18}\n",
      "\n",
      "\n",
      "\n",
      "\n",
      "Descending Sort for Age field\n",
      "\n",
      "\n",
      "{'_id': ObjectId('6548af0fc40457443568bf0c'), 'Name': 'Peter', 'Level': 10, 'Age': 18}\n",
      "{'_id': ObjectId('6548af0fc40457443568bf0b'), 'Name': 'Dikshya', 'Level': 10, 'Age': 16}\n",
      "{'_id': ObjectId('6548af0fc40457443568bf06'), 'Name': 'Manoj', 'Level': 10, 'Age': 15}\n",
      "{'_id': ObjectId('6548af0fc40457443568bf0a'), 'Name': 'Sital', 'Level': 10, 'Age': 15}\n",
      "{'_id': ObjectId('6548af0fc40457443568bf0e'), 'Name': 'Rudra', 'Level': 10, 'Age': 15}\n",
      "{'_id': ObjectId('6548af0fc40457443568bf05'), 'Name': 'Willson', 'Level': 10, 'Age': 14}\n",
      "{'_id': ObjectId('6548af0fc40457443568bf0d'), 'Name': 'Akash', 'Level': 10, 'Age': 14}\n",
      "{'_id': ObjectId('6548af0fc40457443568bf07'), 'Name': 'Dhiraj', 'Level': 10, 'Age': 13}\n",
      "{'_id': ObjectId('6548af0fc40457443568bf09'), 'Name': 'Rupesh', 'Level': 10, 'Age': 13}\n",
      "{'_id': ObjectId('6548af0fc40457443568bf08'), 'Name': 'Neerajan', 'Level': 10, 'Age': 12}\n",
      "{'_id': ObjectId('6548af0fc40457443568bf0f'), 'Name': 'Binita', 'Level': 10, 'Age': 12}\n",
      "\n",
      "\n",
      "\n",
      "\n",
      "Descending Sort for Name field\n",
      "\n",
      "\n",
      "{'_id': ObjectId('6548af0fc40457443568bf05'), 'Name': 'Willson', 'Level': 10, 'Age': 14}\n",
      "{'_id': ObjectId('6548af0fc40457443568bf0a'), 'Name': 'Sital', 'Level': 10, 'Age': 15}\n",
      "{'_id': ObjectId('6548af0fc40457443568bf09'), 'Name': 'Rupesh', 'Level': 10, 'Age': 13}\n",
      "{'_id': ObjectId('6548af0fc40457443568bf0e'), 'Name': 'Rudra', 'Level': 10, 'Age': 15}\n",
      "{'_id': ObjectId('6548af0fc40457443568bf0c'), 'Name': 'Peter', 'Level': 10, 'Age': 18}\n",
      "{'_id': ObjectId('6548af0fc40457443568bf08'), 'Name': 'Neerajan', 'Level': 10, 'Age': 12}\n",
      "{'_id': ObjectId('6548af0fc40457443568bf06'), 'Name': 'Manoj', 'Level': 10, 'Age': 15}\n",
      "{'_id': ObjectId('6548af0fc40457443568bf0b'), 'Name': 'Dikshya', 'Level': 10, 'Age': 16}\n",
      "{'_id': ObjectId('6548af0fc40457443568bf07'), 'Name': 'Dhiraj', 'Level': 10, 'Age': 13}\n",
      "{'_id': ObjectId('6548af0fc40457443568bf0f'), 'Name': 'Binita', 'Level': 10, 'Age': 12}\n",
      "{'_id': ObjectId('6548af0fc40457443568bf0d'), 'Name': 'Akash', 'Level': 10, 'Age': 14}\n"
     ]
    }
   ],
   "source": [
    "#Example of sorting in ascending order \n",
    "print(\"Ascending Sort for Age field\")\n",
    "print(\"\\n\")\n",
    "asc = my_coll2.find().sort(\"Age\")\n",
    "for x in asc:\n",
    "    print(x)\n",
    "    \n",
    "print(\"\\n\")\n",
    "print(\"\\n\")\n",
    "\n",
    "#Example of sorting in descending order \n",
    "print(\"Descending Sort for Age field\")\n",
    "print(\"\\n\")\n",
    "des = my_coll2.find().sort(\"Age\",-1)\n",
    "for x in des:\n",
    "    print(x)\n",
    "\n",
    "print(\"\\n\")\n",
    "print(\"\\n\")\n",
    "# Example of sorting for name field:\n",
    "print(\"Descending Sort for Name field\")\n",
    "print(\"\\n\")\n",
    "des2 = my_coll2.find().sort(\"Name\",-1)\n",
    "for x in des2:\n",
    "    print(x)"
   ]
  },
  {
   "cell_type": "markdown",
   "id": "26d772fb-73fe-47a9-b510-250695d60054",
   "metadata": {},
   "source": [
    "### Q7. Explain why delete_one(), delete_many(), and drop() is used.\n",
    "### Answer:\n",
    "The explanation for delete_one(), delete_many(), and drop() is given below:\n",
    "#### delete_one() method:\n",
    "The delete_one() method in MongoDB is used to delete a single document that matches a specific query filter from a collection. It provides a way to remove a single document that satisfies certain criteria while leaving other documents in the collection unaffected. \n",
    "<br>\n",
    "#### delete_many() method:\n",
    "The delete_many() is used when one needs to delete more than one document. A query object containing which document to be deleted is created and is passed as the first parameter to the delete_many().\n",
    "\n",
    "#### drop() method:\n",
    "The drop() method in MongoDB is used to delete an entire collection, including all the documents within it. It essentially removes the entire collection and all its associated data from the database. Here are some common use cases for using the drop() method:<br>\n",
    "> 1. **Collection Cleanup:** When you want to completely remove a collection and its data, you can use the drop() method. This can be useful for temporary collections, old or obsolete data, or when you want to start fresh.\n",
    "> 2. **Dropping Indexes:** The drop() method is used to drop all indexes associated with a collection. If you need to remove specific indexes, you can do so with the dropIndex() method."
   ]
  }
 ],
 "metadata": {
  "kernelspec": {
   "display_name": "Python 3 (ipykernel)",
   "language": "python",
   "name": "python3"
  },
  "language_info": {
   "codemirror_mode": {
    "name": "ipython",
    "version": 3
   },
   "file_extension": ".py",
   "mimetype": "text/x-python",
   "name": "python",
   "nbconvert_exporter": "python",
   "pygments_lexer": "ipython3",
   "version": "3.10.12"
  }
 },
 "nbformat": 4,
 "nbformat_minor": 5
}
