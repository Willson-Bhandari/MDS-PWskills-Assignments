{
 "cells": [
  {
   "cell_type": "markdown",
   "id": "0b2ad7e2",
   "metadata": {},
   "source": [
    "### Q1. Create one variable containing following type of data:\n",
    "<b>(i) String</b><br>\n",
    "<b>(ii) List</b><br>\n",
    "<b>(iii) Float</b><br>\n",
    "<b>(iv) Tuple</b><br>\n"
   ]
  },
  {
   "cell_type": "markdown",
   "id": "b9613ddc",
   "metadata": {},
   "source": [
    "### Answer :\n",
    "<b>i) String</b><br>\n",
    "  mycity = \"Kathmandu\"<br>\n",
    "  name = \"Willson\"<br>\n",
    "\n",
    "<b>ii) List</b><br>\n",
    "    fruit1 = [ \"apple\" , \"mango\", \"banana\"]<br>\n",
    "    random2 = [ 1,3, 100, \"linear algebra\", 3.5, 4+3j]<br>\n",
    "\n",
    "<b>iii) Float</b><br>\n",
    "     pii = 3.14<br>\n",
    "     height = 5.6\n",
    "\n",
    "<b>iv)Tuple</b><br>\n",
    "   tuple_1 = ( 1,3,(4,5,100, 22.1), [\"mango\", \"apple\", \"calculus\", \"random book\"], \"willson\", 5+1j)<br>\n",
    "   (A tuple can have any number of items and they may be of different types (integer, float, list, string, etc.)"
   ]
  },
  {
   "cell_type": "markdown",
   "id": "989db14f",
   "metadata": {},
   "source": [
    "### Q2. Given are some following variables containing data:\n",
    "<b>(i) var1 = ‘ ‘</b><br>\n",
    "<b>(ii) var2 = ‘[ DS , ML , Python]’</b><br>\n",
    "<b>(iii) var3 = [ ‘DS’ , ’ML’ , ‘Python’ ]</b><br>\n",
    "<b>(iv) var4 = 1.</b> \n",
    "### What will be the data type of the above given variable.\n",
    " "
   ]
  },
  {
   "cell_type": "markdown",
   "id": "1f1d13c3",
   "metadata": {},
   "source": [
    "### Answer :\n",
    "The data type of the above given variable are as.<br>\n",
    "i) string<br>\n",
    "ii) string<br>\n",
    "iii) list<br>\n",
    "iv) float<br>\n",
    "    "
   ]
  },
  {
   "cell_type": "markdown",
   "id": "87d9a837",
   "metadata": {},
   "source": [
    "### Q3. Explain the use of the following operators using an example:\n",
    "<b>(i) /</b><br>\n",
    "<b><b>(ii) %</b><br>\n",
    "<b>(iii) //</b><br>\n",
    "<b>(iv) **</b><br>\n"
   ]
  },
  {
   "cell_type": "markdown",
   "id": "a748b3e1",
   "metadata": {},
   "source": [
    "### Answer :\n"
   ]
  },
  {
   "cell_type": "markdown",
   "id": "cc55ac63-80c1-41fb-bd4d-5b54c74154e2",
   "metadata": {},
   "source": [
    "<b>(i) /</b><br>\n",
    "        This operator is known as divison which will divide the any number and return the floating value as below.<br>\n",
    "        example:</p>"
   ]
  },
  {
   "cell_type": "code",
   "execution_count": 4,
   "id": "cfce595d-519c-4f53-8c9b-7c9903ff1dc5",
   "metadata": {
    "scrolled": true
   },
   "outputs": [
    {
     "name": "stdout",
     "output_type": "stream",
     "text": [
      "2.0\n",
      "Data type of the value is <class 'float'>.\n"
     ]
    }
   ],
   "source": [
    "#example 1 \n",
    "a = 4 \n",
    "b = 2\n",
    "c = a/b\n",
    "print(c)\n",
    "print (f\"Data type of the value is {type(c)}.\")\n"
   ]
  },
  {
   "cell_type": "code",
   "execution_count": 5,
   "id": "cc69de44",
   "metadata": {},
   "outputs": [
    {
     "name": "stdout",
     "output_type": "stream",
     "text": [
      "1.3333333333333333\n"
     ]
    },
    {
     "data": {
      "text/plain": [
       "float"
      ]
     },
     "execution_count": 5,
     "metadata": {},
     "output_type": "execute_result"
    }
   ],
   "source": [
    "#exaple 2\n",
    "d = 4 \n",
    "e = 3\n",
    "f = d/e\n",
    "print(f)\n",
    "type (f)"
   ]
  },
  {
   "cell_type": "markdown",
   "id": "06c87046-ecf1-4370-b813-9d494c01157a",
   "metadata": {},
   "source": [
    "<b>(ii) %</b><br>\n",
    "    This operator name is modulus and its use is to calculate reminder of divison expression in python programming.<br>\n",
    "    Example:\n"
   ]
  },
  {
   "cell_type": "code",
   "execution_count": null,
   "id": "1253ddcb-a72b-421b-bc99-d885c664ee7e",
   "metadata": {},
   "outputs": [
    {
     "name": "stdout",
     "output_type": "stream",
     "text": [
      "1\n"
     ]
    }
   ],
   "source": [
    "#example of modulo is here \n",
    "a = 5\n",
    "b = 2\n",
    "c = a%b\n",
    "print(c) # Here it will print the reminder of the divison a/b ."
   ]
  },
  {
   "cell_type": "markdown",
   "id": "aeaac6c7-0775-4185-b9db-5f35528e4f84",
   "metadata": {},
   "source": [
    "<b> iii) // </b><br>\n",
    "This operator name is floor division which will result as below.<br>\n",
    "Example:"
   ]
  },
  {
   "cell_type": "code",
   "execution_count": null,
   "id": "b3f03f3d-2f32-417f-ba32-db348ce3433a",
   "metadata": {},
   "outputs": [
    {
     "name": "stdout",
     "output_type": "stream",
     "text": [
      "2\n"
     ]
    }
   ],
   "source": [
    "# use of // operator \n",
    "a = 5 \n",
    "b = 2\n",
    "c = a//b\n",
    "print(c)"
   ]
  },
  {
   "cell_type": "markdown",
   "id": "5d2dde01-0b1b-4933-8c66-7641a7be5def",
   "metadata": {},
   "source": [
    "<b>iv)**</b><br>\n",
    "The name of this operator is power or Exponentiation which will give value as 2^2 = 4, 2^3= 8.<br>\n",
    "Example:\n"
   ]
  },
  {
   "cell_type": "code",
   "execution_count": 9,
   "id": "04b42c26",
   "metadata": {
    "scrolled": true
   },
   "outputs": [
    {
     "name": "stdout",
     "output_type": "stream",
     "text": [
      "8\n"
     ]
    }
   ],
   "source": [
    "#example for **\n",
    "a = 2\n",
    "b = 3\n",
    "c = a**b\n",
    "print(c)\n"
   ]
  },
  {
   "cell_type": "markdown",
   "id": "14f012ce-f35c-4ba0-b87b-a9472abd699a",
   "metadata": {},
   "source": [
    "### Q4. Create a list of length 10 of your choice containing multiple types of data. Using for loop print the element and its data type.\n"
   ]
  },
  {
   "cell_type": "markdown",
   "id": "056f279e-9e3c-47fe-b4fe-1e606d02def6",
   "metadata": {},
   "source": [
    "### Answer :\n",
    "Code for above problem is give below in next cell.\n"
   ]
  },
  {
   "cell_type": "code",
   "execution_count": null,
   "id": "1ebb201f-765f-479a-8173-147864d427d5",
   "metadata": {},
   "outputs": [
    {
     "name": "stdout",
     "output_type": "stream",
     "text": [
      "100\n",
      "<class 'int'>\n",
      "Apple\n",
      "<class 'str'>\n",
      "cost\n",
      "<class 'str'>\n",
      "is\n",
      "<class 'str'>\n",
      "1000.1\n",
      "<class 'float'>\n",
      "(4+1j)\n",
      "<class 'complex'>\n",
      "2\n",
      "<class 'int'>\n",
      "4\n",
      "<class 'int'>\n",
      "-1\n",
      "<class 'int'>\n",
      " \n",
      "<class 'str'>\n"
     ]
    }
   ],
   "source": [
    "# code fo above answer is given below with list name list_4\n",
    "list_4 = [ 100, \"Apple\", \"cost\", \"is\", 1000.1, 4+1j, 2, 4, -1, \" \"]\n",
    "for i in list_4:\n",
    "    print(i)\n",
    "    a= type(i)\n",
    "    print(a)\n",
    "    "
   ]
  },
  {
   "cell_type": "markdown",
   "id": "6d9716b3-5906-477a-9f16-88ee17cf91fd",
   "metadata": {},
   "source": [
    "### Q5. Using a while loop, verify if the number A is purely divisible by number B and if so then how many times it can be divisible.\n"
   ]
  },
  {
   "cell_type": "markdown",
   "id": "13fba813-3f0d-4c65-aa81-f51c18b282dd",
   "metadata": {},
   "source": [
    "### Answer :\n",
    "The solution is in the next cell below."
   ]
  },
  {
   "cell_type": "code",
   "execution_count": 11,
   "id": "c0d40fa6-ef46-4d54-8989-8ed91b4d24b2",
   "metadata": {},
   "outputs": [
    {
     "name": "stdout",
     "output_type": "stream",
     "text": [
      "Number of times A is divisible by B: 2\n"
     ]
    }
   ],
   "source": [
    "A = 16\n",
    "B = 4\n",
    "\n",
    "count = 0\n",
    "while A % B == 0:\n",
    "    A = A / B\n",
    "    count += 1\n",
    "\n",
    "print(\"Number of times A is divisible by B:\", count)\n",
    "    "
   ]
  },
  {
   "cell_type": "markdown",
   "id": "12b4a6d5-fd33-4352-a17f-6b51fe6a09c8",
   "metadata": {},
   "source": [
    "### Q6. Create a list containing 25 int type data. Using for loop and if-else condition print if the element is divisible by 3 or not.\n",
    "\n",
    " "
   ]
  },
  {
   "cell_type": "markdown",
   "id": "55e63f49-fe0c-43d0-82ec-59329d0774c9",
   "metadata": {},
   "source": [
    "### Answer : \n",
    "The code for above problem is give below in new cell.\n",
    "\n"
   ]
  },
  {
   "cell_type": "code",
   "execution_count": null,
   "id": "498e6d88-7887-47c4-aa52-40e85c6d18c5",
   "metadata": {},
   "outputs": [
    {
     "name": "stdout",
     "output_type": "stream",
     "text": [
      "The number 32 is not divisable by 3\n",
      "The number 6 is divisable by 3\n",
      "The number 71 is not divisable by 3\n",
      "The number 41 is not divisable by 3\n",
      "The number 4 is not divisable by 3\n",
      "The number 7 is not divisable by 3\n",
      "The number 31 is not divisable by 3\n",
      "The number 69 is divisable by 3\n",
      "The number 3 is divisable by 3\n",
      "The number 2 is not divisable by 3\n",
      "The number 63 is divisable by 3\n",
      "The number 5 is not divisable by 3\n",
      "The number 76 is not divisable by 3\n",
      "The number 38 is not divisable by 3\n",
      "The number 34 is not divisable by 3\n",
      "The number 33 is divisable by 3\n",
      "The number 45 is divisable by 3\n",
      "The number 61 is not divisable by 3\n",
      "The number 53 is not divisable by 3\n",
      "The number 89 is not divisable by 3\n",
      "The number 67 is not divisable by 3\n",
      "The number 13 is not divisable by 3\n",
      "The number 96 is divisable by 3\n",
      "The number 57 is divisable by 3\n",
      "The number 10 is not divisable by 3\n"
     ]
    }
   ],
   "source": [
    "# this cell is for question no 6\n",
    "import random \n",
    "list_6 = random.sample(range(1,100),25)\n",
    "for i in list_6:\n",
    "    a = i%3\n",
    "    if a==0:\n",
    "        print(\"The number\", i, \"is divisable by 3\")\n",
    "    else:\n",
    "        print(\"The number\", i, \"is not divisable by 3\")\n",
    "                \n",
    "            "
   ]
  },
  {
   "cell_type": "markdown",
   "id": "2a57af74-2b24-42f8-b6ff-608988f4469c",
   "metadata": {},
   "source": [
    "### Q7. What do you understand about mutable and immutable data types? Give examples for both showing this property.\n",
    " "
   ]
  },
  {
   "cell_type": "markdown",
   "id": "41c87d3c-4ee2-432c-8cb3-62e925cf61fe",
   "metadata": {},
   "source": [
    "### Answer :\n",
    "Mutable data type are those types of data which are able to change like in any list data type which can be changed data inside the given list by adding abstracting, etc. And immutable data types are those data types which cannot be changed by the process of replacing in those data type. like in string data type . The value holding in string data type is cannot be appended or other similar operation.\n",
    "<br>Example:"
   ]
  },
  {
   "cell_type": "markdown",
   "id": "02dd4045",
   "metadata": {},
   "source": [
    "Example for mutability "
   ]
  },
  {
   "cell_type": "code",
   "execution_count": null,
   "id": "cf7f57e3-8906-42fd-8e69-6b8873bb590a",
   "metadata": {},
   "outputs": [
    {
     "name": "stdout",
     "output_type": "stream",
     "text": [
      "[1, 3, 5, 'changed', 'apple', 1.2, (2+1j)]\n"
     ]
    }
   ],
   "source": [
    "# example of mutuable\n",
    "list_7 = [ 1,3,5, \"willson\", \"apple\", 1.2, 2+1j]\n",
    "list_7[3] = \"changed\"\n",
    "print(list_7)"
   ]
  },
  {
   "cell_type": "markdown",
   "id": "54889a6d",
   "metadata": {},
   "source": [
    "Example for immutability"
   ]
  },
  {
   "cell_type": "code",
   "execution_count": null,
   "id": "1f6ac40f-0f59-4789-8d39-fc8e6a429498",
   "metadata": {},
   "outputs": [
    {
     "ename": "TypeError",
     "evalue": "'str' object does not support item assignment",
     "output_type": "error",
     "traceback": [
      "\u001b[0;31m---------------------------------------------------------------------------\u001b[0m",
      "\u001b[0;31mTypeError\u001b[0m                                 Traceback (most recent call last)",
      "Cell \u001b[0;32mIn[45], line 3\u001b[0m\n\u001b[1;32m      1\u001b[0m \u001b[38;5;66;03m# exaple of immutable data type \u001b[39;00m\n\u001b[1;32m      2\u001b[0m fruit \u001b[38;5;241m=\u001b[39m \u001b[38;5;124m\"\u001b[39m\u001b[38;5;124mbanana\u001b[39m\u001b[38;5;124m\"\u001b[39m\n\u001b[0;32m----> 3\u001b[0m \u001b[43mfruit\u001b[49m\u001b[43m[\u001b[49m\u001b[38;5;241;43m1\u001b[39;49m\u001b[43m]\u001b[49m \u001b[38;5;241m=\u001b[39m \u001b[38;5;124m\"\u001b[39m\u001b[38;5;124mb\u001b[39m\u001b[38;5;124m\"\u001b[39m \u001b[38;5;66;03m#here i'm trying to replace a having index 1 to b , but its not possible in this string data type so this is known as immutable data type\u001b[39;00m\n\u001b[1;32m      4\u001b[0m \u001b[38;5;28mprint\u001b[39m(furit)\n",
      "\u001b[0;31mTypeError\u001b[0m: 'str' object does not support item assignment"
     ]
    }
   ],
   "source": [
    "# exaple of immutable data type \n",
    "fruit = \"banana\"\n",
    "fruit[1] = \"b\" #here i'm trying to replace a having index 1 to b , but its not possible in this string data type so this is known as immutable data type\n",
    "print(furit)"
   ]
  }
 ],
 "metadata": {
  "kernelspec": {
   "display_name": "Python 3 (ipykernel)",
   "language": "python",
   "name": "python3"
  },
  "language_info": {
   "codemirror_mode": {
    "name": "ipython",
    "version": 3
   },
   "file_extension": ".py",
   "mimetype": "text/x-python",
   "name": "python",
   "nbconvert_exporter": "python",
   "pygments_lexer": "ipython3",
   "version": "3.11.3"
  }
 },
 "nbformat": 4,
 "nbformat_minor": 5
}
