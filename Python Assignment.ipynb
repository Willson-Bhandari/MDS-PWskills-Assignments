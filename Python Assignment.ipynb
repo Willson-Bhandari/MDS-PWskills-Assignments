{
 "cells": [
  {
   "cell_type": "markdown",
   "id": "2035202e-05e9-40c9-a503-d15a57a7f200",
   "metadata": {},
   "source": [
    "### Q1. Create a python program to sort the given list of tuples based on integer value using a lambda function. \n",
    "### [('Sachin Tendulkar', 34357), ('Ricky Ponting', 27483), ('Jack Kallis', 25534), ('Virat Kohli', 24936)]\n",
    "### Answer:"
   ]
  },
  {
   "cell_type": "code",
   "execution_count": 6,
   "id": "4594fd40-1973-4c8b-bd9b-1308ffb796a8",
   "metadata": {},
   "outputs": [
    {
     "name": "stdout",
     "output_type": "stream",
     "text": [
      "[('Virat Kohli', 24936), ('Jack Kallis', 25534), ('Ricky Ponting', 27483), ('Sachin Tendulkar', 34357)]\n"
     ]
    }
   ],
   "source": [
    "lis = [('Sachin Tendulkar', 34357), ('Ricky Ponting', 27483), ('Jack Kallis', 25534), ('Virat Kohli', 24936)]\n",
    "lis.sort(key = lambda x: x[1])\n",
    "print(lis)"
   ]
  },
  {
   "cell_type": "markdown",
   "id": "e679d195-d2dd-4165-b44a-c66edccb4c7a",
   "metadata": {},
   "source": [
    "### Q2. Write a Python Program to find the squares of all the numbers in the given list of integers using lambda and map functions.\n",
    "### [1, 2, 3, 4, 5, 6, 7, 8, 9, 10]\n",
    "### Answer:\n",
    "The required code is given below-"
   ]
  },
  {
   "cell_type": "code",
   "execution_count": 2,
   "id": "f52050b4-80ea-4234-9340-71865185c6c6",
   "metadata": {},
   "outputs": [
    {
     "name": "stdout",
     "output_type": "stream",
     "text": [
      "[1, 4, 9, 16, 25, 36, 49, 64, 81, 100]\n"
     ]
    }
   ],
   "source": [
    "l2 = [1, 2, 3, 4, 5, 6, 7, 8, 9, 10]\n",
    "x = map(lambda x: x**2, l2)\n",
    "print(list(x))\n"
   ]
  },
  {
   "cell_type": "markdown",
   "id": "71c4fe87-f4dd-488c-ba8e-34ee54eda9a2",
   "metadata": {},
   "source": [
    "### Q3. Write a python program to convert the given list of integers into a tuple of strings. Use map and lambda functions Given String:\n",
    "### [1, 2, 3, 4, 5, 6, 7, 8, 9, 10]\n",
    "### Expected output: ('1', '2', '3', '4', '5', '6', '7', '8', '9', '10')\n",
    "### Answer:\n",
    "The required python program is given in following cell"
   ]
  },
  {
   "cell_type": "code",
   "execution_count": 4,
   "id": "2b4553cf-39c2-4e86-8937-c1ca7aced476",
   "metadata": {},
   "outputs": [
    {
     "name": "stdout",
     "output_type": "stream",
     "text": [
      "('1', '2', '3', '4', '5', '6', '7', '8', '9', '10')\n"
     ]
    }
   ],
   "source": [
    "#The code is\n",
    "l3 = [1,2,3,4,5,6,7,8,9,10]\n",
    "x = map(lambda y:str(y),l3)\n",
    "print(tuple(x))"
   ]
  },
  {
   "cell_type": "markdown",
   "id": "b46f293b-0d81-4457-999f-578897e58674",
   "metadata": {},
   "source": [
    "### Q4. Write a python program using reduce function to compute the product of a list containing numbers from 1 to 25.\n",
    "### Answer:\n",
    "The required python program is in the following cell.."
   ]
  },
  {
   "cell_type": "code",
   "execution_count": 20,
   "id": "31fc298e-073c-44a7-badc-161ac8d44d9f",
   "metadata": {},
   "outputs": [
    {
     "name": "stdout",
     "output_type": "stream",
     "text": [
      "The product of list is\n",
      " 15511210043330985984000000\n"
     ]
    }
   ],
   "source": [
    "# The code is given as:\n",
    "from functools import reduce\n",
    "l4 = list(range(1,26))\n",
    "x4 = reduce(lambda x,y:x*y, l4)\n",
    "print(\"The product of list is\\n\",x4)"
   ]
  },
  {
   "cell_type": "markdown",
   "id": "e3a1563d-284c-49fb-82ba-21ab558dc65a",
   "metadata": {},
   "source": [
    "### Q5. Write a python program to filter the numbers in a given list that are divisible by 2 and 3 using the filter function.\n",
    "### [2, 3, 6, 9, 27, 60, 90, 120, 55, 46]\n",
    "### Answer: \n",
    "The required program is:"
   ]
  },
  {
   "cell_type": "code",
   "execution_count": 22,
   "id": "8a16bf2e-402b-4cd1-9df4-37d7d5af5ade",
   "metadata": {},
   "outputs": [
    {
     "name": "stdout",
     "output_type": "stream",
     "text": [
      "6\n",
      "60\n",
      "90\n",
      "120\n"
     ]
    }
   ],
   "source": [
    "l5 = [2, 3, 6, 9, 27, 60, 90, 120, 55, 46]\n",
    "x5 = filter(lambda x:x%2 ==0 and x%3==0, l5)\n",
    "for i in x5:\n",
    "    print(i)"
   ]
  },
  {
   "cell_type": "markdown",
   "id": "d98b0542-19c0-4031-aaee-6a74185599d5",
   "metadata": {},
   "source": [
    "### Q6. Write a python program to find palindromes in the given list of strings using lambda and filter function.\n",
    "### ['python', 'php', 'aba', 'radar', 'level']\n",
    "### Answer:\n",
    "The required program is :\n"
   ]
  },
  {
   "cell_type": "code",
   "execution_count": 24,
   "id": "f62b008b-6848-427b-a0ec-fba4d538ca50",
   "metadata": {},
   "outputs": [
    {
     "name": "stdout",
     "output_type": "stream",
     "text": [
      "['php', 'aba', 'radar', 'level']\n"
     ]
    }
   ],
   "source": [
    "l6 = ['python', 'php', 'aba', 'radar', 'level']\n",
    "x6 = filter(lambda x: x == x[::-1],l6)\n",
    "print(list(x6))"
   ]
  },
  {
   "cell_type": "code",
   "execution_count": null,
   "id": "52efedf5-3a7c-4ab5-add5-17822bf9c4f5",
   "metadata": {},
   "outputs": [],
   "source": []
  }
 ],
 "metadata": {
  "kernelspec": {
   "display_name": "Python 3 (ipykernel)",
   "language": "python",
   "name": "python3"
  },
  "language_info": {
   "codemirror_mode": {
    "name": "ipython",
    "version": 3
   },
   "file_extension": ".py",
   "mimetype": "text/x-python",
   "name": "python",
   "nbconvert_exporter": "python",
   "pygments_lexer": "ipython3",
   "version": "3.11.5"
  }
 },
 "nbformat": 4,
 "nbformat_minor": 5
}
