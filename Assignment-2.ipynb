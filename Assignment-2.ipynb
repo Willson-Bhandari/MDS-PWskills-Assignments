{
 "cells": [
  {
   "cell_type": "markdown",
   "id": "a9fa8d08",
   "metadata": {},
   "source": [
    "### Q1. How do you comment code in Python? What are the different types of comments?\n",
    "### Answer :\n",
    "There are two types for adding comment in Python that are<br>\n",
    "1) single line comment which is \"#\" character.We should add \"#\" character before the comment line is written.<br>\n",
    "2) Multi-line comment which is given by simply \"\"\"(3 quotation marks) . It should be add before and after finishing the comment in multi line comment. <br>\n",
    "Example is "
   ]
  },
  {
   "cell_type": "code",
   "execution_count": 12,
   "id": "9ff81bec",
   "metadata": {},
   "outputs": [
    {
     "name": "stdout",
     "output_type": "stream",
     "text": [
      "0\n",
      "1\n",
      "2\n",
      "3\n",
      "4\n"
     ]
    }
   ],
   "source": [
    "5+5 # this is single line comment means this line is not executed or ignored after \"#\" character.\n",
    "# 5+5\n",
    "for i in range (5):\n",
    "    print(i)        \n",
    "    ''' note this is multi line comment\n",
    "                        here i can add multiple line of comments to this code block but doesn't get executed this line as it\n",
    "                        is comment.\n",
    "                                     '''"
   ]
  },
  {
   "cell_type": "markdown",
   "id": "1b38693a",
   "metadata": {},
   "source": [
    "### Q2. What are variables in Python? How do you declare and assign values to variables?\n",
    "### Answer :\n",
    "Variable are the container used to store different value. Declaration of variable has some basic rules <br>\n",
    "1) Variables should start either with alphabet or underscore sign.\n",
    "2) Variables can be the combination of alpha numeric\n",
    "3) Variables are case sensative.<br>\n",
    "Assignment of values to variable by simple assignment operator \"=\" and putting the values to right side fo variable as example below:<br>\n",
    "Example:\n",
    "a1 = 2\n",
    "fruit_1 = \"apple\" . Here we use double quotation marks for string values for the variable."
   ]
  },
  {
   "cell_type": "markdown",
   "id": "5a6c5ad9",
   "metadata": {},
   "source": [
    "### Q3. How do you convert one data type to another in Python?\n",
    "### Answer :\n",
    "Yes, we can convert one data type to another data type by type casting method ie. desired data type function and value in the <br>\n",
    "parenthesis. eg: int(\"50\") return integer value as 50 only as \"50\" here is string data type value."
   ]
  },
  {
   "cell_type": "code",
   "execution_count": 17,
   "id": "0b1c6392",
   "metadata": {},
   "outputs": [
    {
     "ename": "ValueError",
     "evalue": "invalid literal for int() with base 10: 'willson'",
     "output_type": "error",
     "traceback": [
      "\u001b[1;31m---------------------------------------------------------------------------\u001b[0m",
      "\u001b[1;31mValueError\u001b[0m                                Traceback (most recent call last)",
      "Cell \u001b[1;32mIn[17], line 4\u001b[0m\n\u001b[0;32m      1\u001b[0m \u001b[38;5;66;03m#example 1\u001b[39;00m\n\u001b[0;32m      2\u001b[0m \u001b[38;5;66;03m# converting to integer from string data type \u001b[39;00m\n\u001b[0;32m      3\u001b[0m name \u001b[38;5;241m=\u001b[39m \u001b[38;5;124m\"\u001b[39m\u001b[38;5;124mwillson\u001b[39m\u001b[38;5;124m\"\u001b[39m\n\u001b[1;32m----> 4\u001b[0m intco \u001b[38;5;241m=\u001b[39m \u001b[38;5;28;43mint\u001b[39;49m\u001b[43m(\u001b[49m\u001b[43mname\u001b[49m\u001b[43m)\u001b[49m \u001b[38;5;66;03m# Note it will show an error because python couldn't type caste string value as here but can type cast\u001b[39;00m\n\u001b[0;32m      5\u001b[0m \u001b[38;5;28mprint\u001b[39m(intco)      \u001b[38;5;66;03m# in example 2\u001b[39;00m\n\u001b[0;32m      6\u001b[0m \u001b[38;5;28mprint\u001b[39m(\u001b[38;5;28mtype\u001b[39m(intco))\n",
      "\u001b[1;31mValueError\u001b[0m: invalid literal for int() with base 10: 'willson'"
     ]
    }
   ],
   "source": [
    "#example 1\n",
    "# converting to integer from string data type \n",
    "name = \"willson\"\n",
    "intco = int(name) # Note it will show an error because python couldn't type caste string value as here but can type cast\n",
    "print(intco)      # in example 2\n",
    "print(type(intco))"
   ]
  },
  {
   "cell_type": "code",
   "execution_count": 16,
   "id": "c7cc5aff",
   "metadata": {},
   "outputs": [
    {
     "name": "stdout",
     "output_type": "stream",
     "text": [
      "50\n",
      "<class 'int'>\n"
     ]
    }
   ],
   "source": [
    "#example 2\n",
    "name = \"50\"\n",
    "intco = int(name)  \n",
    "print(intco)      \n",
    "print(type(intco))"
   ]
  },
  {
   "cell_type": "markdown",
   "id": "993df4a9",
   "metadata": {},
   "source": [
    "<b> Note: type cast is possible only in similar types of data or similar family of data ie casting is possible in float to int and int to float also to string as in example 2 but not above as example 1.</b>"
   ]
  },
  {
   "cell_type": "markdown",
   "id": "d4df20fd",
   "metadata": {},
   "source": [
    "### Q4. How do you write and execute a Python script from the command line?\n",
    "### Answer :\n",
    "Here are the steps to write and execute a python script from the command line.<br>\n",
    "Assumption : python installed on your machine.<br>\n",
    "1) Open the terminal of your pc \n",
    "2) On the terminal, type python and hit Enter key.\n",
    "3) Now you can write any piece of code.\n",
    "4) For execution we should hit Enter key. It will give output in the next line "
   ]
  },
  {
   "cell_type": "markdown",
   "id": "ff135bb4",
   "metadata": {},
   "source": [
    "### Q5. Given a list my_list = [1, 2, 3, 4, 5], write the code to slice the list and obtain the sub-list [2, 3].\n",
    "### Answer :\n"
   ]
  },
  {
   "cell_type": "code",
   "execution_count": 5,
   "id": "dfcdb17d",
   "metadata": {},
   "outputs": [
    {
     "data": {
      "text/plain": [
       "[2, 3]"
      ]
     },
     "execution_count": 5,
     "metadata": {},
     "output_type": "execute_result"
    }
   ],
   "source": [
    "#The code is here\n",
    "my_list = [1,2,3,4,5]\n",
    "list(my_list[1:3])\n"
   ]
  },
  {
   "cell_type": "markdown",
   "id": "8b25dcc4",
   "metadata": {},
   "source": [
    "### Q6. What is a complex number in mathematics, and how is it represented in Python?\n",
    "### Answer:\n",
    "In math, Complex number is number which is expressed in term of real and imaginary number.ie. In the form of a + bi\n",
    "where a and b is real number and i is imaginary number having the value of square root of \"-1\".\n",
    "\n",
    "And in case of python it is represented as : a + bj \n",
    "Where a and b is real number and j represent imaginary part:\n"
   ]
  },
  {
   "cell_type": "markdown",
   "id": "7faeebf4",
   "metadata": {},
   "source": [
    "### Q7. What is the correct way to declare a variable named age and assign the value 25 to it?\n",
    "### Answer:\n",
    "The correct way to declare variable name age is :\n",
    "age = numerical value.<br>\n",
    "From the question \n",
    "age = 25"
   ]
  },
  {
   "cell_type": "code",
   "execution_count": 7,
   "id": "84f9059f",
   "metadata": {},
   "outputs": [
    {
     "data": {
      "text/plain": [
       "int"
      ]
     },
     "execution_count": 7,
     "metadata": {},
     "output_type": "execute_result"
    }
   ],
   "source": [
    "# The code in python is\n",
    "age = 25\n",
    "type(age)\n"
   ]
  },
  {
   "cell_type": "markdown",
   "id": "61bb21ca",
   "metadata": {},
   "source": [
    "### Q8. Declare a variable named price and assign the value 9.99 to it. What data type does this variable\n",
    "### belong to?\n",
    "### Answer:\n",
    "The required python code is "
   ]
  },
  {
   "cell_type": "code",
   "execution_count": 8,
   "id": "e8925144",
   "metadata": {},
   "outputs": [
    {
     "data": {
      "text/plain": [
       "float"
      ]
     },
     "execution_count": 8,
     "metadata": {},
     "output_type": "execute_result"
    }
   ],
   "source": [
    "#python code is \n",
    "price = 9.99\n",
    "type(price)"
   ]
  },
  {
   "cell_type": "markdown",
   "id": "40e1dc75",
   "metadata": {},
   "source": [
    "#### From the above code we concluded that the variable price data type is float"
   ]
  },
  {
   "cell_type": "markdown",
   "id": "b3836d50",
   "metadata": {},
   "source": [
    "### Q9. Create a variable named name and assign your full name to it as a string. How would you print the\n",
    "### value of this variable?\n",
    "### Answer: \n",
    "The required code is in the below cell:"
   ]
  },
  {
   "cell_type": "code",
   "execution_count": 9,
   "id": "e5049ea5",
   "metadata": {},
   "outputs": [
    {
     "name": "stdout",
     "output_type": "stream",
     "text": [
      "Willson Bhandari\n"
     ]
    }
   ],
   "source": [
    "# The code is :\n",
    "name = \"Willson Bhandari\"\n",
    "print(name)"
   ]
  },
  {
   "cell_type": "markdown",
   "id": "e4d87a43",
   "metadata": {},
   "source": [
    "We can use print() function to print the name passing the required variable in the parentheses to print the value of it.\n"
   ]
  },
  {
   "cell_type": "markdown",
   "id": "dac1509e",
   "metadata": {},
   "source": [
    "### Q10. Given the string \"Hello, World!\", extract the substring \"World\".\n",
    "### Answer:\n",
    "\n"
   ]
  },
  {
   "cell_type": "code",
   "execution_count": 11,
   "id": "9f79f4f8",
   "metadata": {},
   "outputs": [
    {
     "data": {
      "text/plain": [
       "'World'"
      ]
     },
     "execution_count": 11,
     "metadata": {},
     "output_type": "execute_result"
    }
   ],
   "source": [
    "# The code is :\n",
    "st1 = \"Hello, World!\" # storring the string in the varialbe.\n",
    "st1[7:12]"
   ]
  },
  {
   "cell_type": "markdown",
   "id": "32802276",
   "metadata": {},
   "source": [
    "### Q11. Create a variable named \"is_student\" and assign it a boolean value indicating whether you are\n",
    "### currently a student or not.\n",
    "### Answer:\n",
    "The requrired code is:\n"
   ]
  },
  {
   "cell_type": "code",
   "execution_count": 15,
   "id": "bef65950",
   "metadata": {},
   "outputs": [],
   "source": [
    "# The code is \n",
    "is_student = True # for currently student\n",
    "is_student = False # for currently not student.\n"
   ]
  },
  {
   "cell_type": "code",
   "execution_count": null,
   "id": "a0adfef8",
   "metadata": {},
   "outputs": [],
   "source": []
  }
 ],
 "metadata": {
  "kernelspec": {
   "display_name": "Python 3 (ipykernel)",
   "language": "python",
   "name": "python3"
  },
  "language_info": {
   "codemirror_mode": {
    "name": "ipython",
    "version": 3
   },
   "file_extension": ".py",
   "mimetype": "text/x-python",
   "name": "python",
   "nbconvert_exporter": "python",
   "pygments_lexer": "ipython3",
   "version": "3.11.3"
  }
 },
 "nbformat": 4,
 "nbformat_minor": 5
}
