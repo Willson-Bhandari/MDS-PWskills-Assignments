{
 "cells": [
  {
   "cell_type": "markdown",
   "id": "d31ce4e3-1789-438e-8011-43cab1015617",
   "metadata": {},
   "source": [
    "### Q1. What is MongoDB? Explain non-relational databases in short. In which scenarios it is preferred to use MongoDB over SQL databases?\n",
    "### Answer:\n"
   ]
  },
  {
   "cell_type": "code",
   "execution_count": null,
   "id": "38c0cc14-08cd-4cd6-abe1-0a80f219ef33",
   "metadata": {},
   "outputs": [],
   "source": []
  }
 ],
 "metadata": {
  "kernelspec": {
   "display_name": "Python 3 (ipykernel)",
   "language": "python",
   "name": "python3"
  },
  "language_info": {
   "codemirror_mode": {
    "name": "ipython",
    "version": 3
   },
   "file_extension": ".py",
   "mimetype": "text/x-python",
   "name": "python",
   "nbconvert_exporter": "python",
   "pygments_lexer": "ipython3",
   "version": "3.10.12"
  }
 },
 "nbformat": 4,
 "nbformat_minor": 5
}
